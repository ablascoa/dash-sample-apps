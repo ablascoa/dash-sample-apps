{
 "cells": [
  {
   "cell_type": "markdown",
   "metadata": {},
   "source": [
    "### Importación de tabla y generación de tablas por actividad económica (PIB)"
   ]
  },
  {
   "cell_type": "code",
   "execution_count": null,
   "metadata": {},
   "outputs": [],
   "source": [
    "import pandas as pd\n",
    "import chardet\n",
    "\n",
    "def reformat_column_labels(text, text_to_delete):\n",
    "    return text.replace(text_to_delete,'').rstrip().lstrip()\n",
    "\n",
    "def create_pib_pct_df(df, total_column_label='Total nacional'):\n",
    "    \"\"\"\n",
    "    dado un DataFrame y una columna de totales, divide todas las columnas para \n",
    "    obtener porcentajes\n",
    "    total_column_label: name of the column with the total values\n",
    "    \"\"\"\n",
    "    df_pct = df.div(df.loc[:, total_column_label], axis=0)*100\n",
    "    return df_pct\n",
    "    \n",
    "    \n",
    "    \n",
    "with open('PIB_estatal_actividades_econ.csv', 'rb') as f:\n",
    "    result = chardet.detect(f.read())  # or readline if the file is large\n",
    "\n",
    "\n",
    "pib = pd.read_csv('PIB_estatal_actividades_econ.csv', skiprows=[0,1, 23, 24, 25], encoding=result['encoding'])\\\n",
    "        .set_index('Periodo')\n",
    "\n",
    "# dividir el df en tres. Uno para cada tipo de actividad\n",
    "text_to_delete = 'Cuentas nacionales > Producto interno bruto por entidad federativa, base 2013 > Por actividad económica y entidad federativa > Valores a precios constantes de 2013 >'\n",
    "pib.columns = [col.replace(text_to_delete, '').replace(' r1 / p1 / ', '') for col in pib.columns.values]\n",
    "\n",
    "# Create df with actividades primarias (levels and national pct)\n",
    "pib_prim_cols = [col for col in pib.columns if 'primarias' in col]\n",
    "pib_prim = pib[pib_prim_cols]\n",
    "text_to_delete = 'Actividades primarias > Total actividades primaria'\n",
    "pib_prim.columns = [reformat_column_labels(col, text_to_delete) for col in pib_prim.columns.values]\n",
    "pib_prim.to_csv('data/PIB_primario.csv')\n",
    "pib_prim_pct = create_pib_pct_df(pib_prim)\n",
    "pib_prim_pct.to_csv('data/PIB_primario_pct.csv')\n",
    "\n",
    "\n",
    "# Create df with actividades secundarias (levels and national pct)\n",
    "pib_sec_cols = [col for col in pib.columns if 'secundarias' in col]\n",
    "pib_sec = pib[pib_sec_cols]\n",
    "text_to_delete = 'Actividades secundarias > Total actividades secundarias'\n",
    "pib_sec.columns = [reformat_column_labels(col, text_to_delete) for col in pib_sec.columns.values]\n",
    "pib_sec.to_csv('data/PIB_secundario.csv')\n",
    "pib_sec_pct = create_pib_pct_df(pib_sec)\n",
    "pib_sec_pct.to_csv('data/PIB_secundario_pct.csv')\n",
    "\n",
    "# Create df with actividades terciarias (levels and national pct)\n",
    "pib_ter_cols = [col for col in pib.columns if 'terciarias' in col] \n",
    "pib_ter = pib[pib_ter_cols]\n",
    "text_to_delete = 'Actividades terciarias > Total actividades terciarias'\n",
    "pib_ter.columns = [reformat_column_labels(col, text_to_delete) for col in pib_ter.columns.values]\n",
    "pib_ter.to_csv('data/PIB_terciario.csv')\n",
    "pib_ter_pct = create_pib_pct_df(pib_ter)\n",
    "pib_ter_pct.to_csv('data/PIB_terciario_pct.csv')"
   ]
  },
  {
   "cell_type": "code",
   "execution_count": 31,
   "metadata": {},
   "outputs": [
    {
     "data": {
      "text/html": [
       "<div>\n",
       "<style scoped>\n",
       "    .dataframe tbody tr th:only-of-type {\n",
       "        vertical-align: middle;\n",
       "    }\n",
       "\n",
       "    .dataframe tbody tr th {\n",
       "        vertical-align: top;\n",
       "    }\n",
       "\n",
       "    .dataframe thead th {\n",
       "        text-align: right;\n",
       "    }\n",
       "</style>\n",
       "<table border=\"1\" class=\"dataframe\">\n",
       "  <thead>\n",
       "    <tr style=\"text-align: right;\">\n",
       "      <th></th>\n",
       "      <th>Total nacional</th>\n",
       "      <th>Aguascalientes</th>\n",
       "      <th>Baja California</th>\n",
       "      <th>Baja California Sur</th>\n",
       "      <th>Campeche</th>\n",
       "      <th>Coahuila de Zaragoza</th>\n",
       "      <th>Colima</th>\n",
       "      <th>Chiapas</th>\n",
       "      <th>Chihuahua</th>\n",
       "      <th>Ciudad de México</th>\n",
       "      <th>...</th>\n",
       "      <th>Quintana Roo</th>\n",
       "      <th>San Luis Potosí</th>\n",
       "      <th>Sinaloa</th>\n",
       "      <th>Sonora</th>\n",
       "      <th>Tabasco</th>\n",
       "      <th>Tamaulipas</th>\n",
       "      <th>Tlaxcala</th>\n",
       "      <th>Veracruz de Ignacio de la Llave</th>\n",
       "      <th>Yucatán</th>\n",
       "      <th>Zacatecas</th>\n",
       "    </tr>\n",
       "    <tr>\n",
       "      <th>Periodo</th>\n",
       "      <th></th>\n",
       "      <th></th>\n",
       "      <th></th>\n",
       "      <th></th>\n",
       "      <th></th>\n",
       "      <th></th>\n",
       "      <th></th>\n",
       "      <th></th>\n",
       "      <th></th>\n",
       "      <th></th>\n",
       "      <th></th>\n",
       "      <th></th>\n",
       "      <th></th>\n",
       "      <th></th>\n",
       "      <th></th>\n",
       "      <th></th>\n",
       "      <th></th>\n",
       "      <th></th>\n",
       "      <th></th>\n",
       "      <th></th>\n",
       "      <th></th>\n",
       "    </tr>\n",
       "  </thead>\n",
       "  <tbody>\n",
       "    <tr>\n",
       "      <th>2000</th>\n",
       "      <td>100.0</td>\n",
       "      <td>0.875012</td>\n",
       "      <td>3.656923</td>\n",
       "      <td>0.564814</td>\n",
       "      <td>7.049669</td>\n",
       "      <td>3.194620</td>\n",
       "      <td>0.565312</td>\n",
       "      <td>1.964046</td>\n",
       "      <td>3.001168</td>\n",
       "      <td>17.486739</td>\n",
       "      <td>...</td>\n",
       "      <td>1.061132</td>\n",
       "      <td>1.736715</td>\n",
       "      <td>2.271884</td>\n",
       "      <td>3.388506</td>\n",
       "      <td>3.289684</td>\n",
       "      <td>3.050097</td>\n",
       "      <td>0.678779</td>\n",
       "      <td>4.960792</td>\n",
       "      <td>1.270705</td>\n",
       "      <td>0.707104</td>\n",
       "    </tr>\n",
       "    <tr>\n",
       "      <th>2001</th>\n",
       "      <td>100.0</td>\n",
       "      <td>0.925019</td>\n",
       "      <td>3.399839</td>\n",
       "      <td>0.598247</td>\n",
       "      <td>7.612524</td>\n",
       "      <td>3.203350</td>\n",
       "      <td>0.556528</td>\n",
       "      <td>1.958205</td>\n",
       "      <td>2.874522</td>\n",
       "      <td>17.344489</td>\n",
       "      <td>...</td>\n",
       "      <td>1.120510</td>\n",
       "      <td>1.729841</td>\n",
       "      <td>2.232357</td>\n",
       "      <td>3.291699</td>\n",
       "      <td>3.208253</td>\n",
       "      <td>2.918242</td>\n",
       "      <td>0.704725</td>\n",
       "      <td>4.887236</td>\n",
       "      <td>1.298729</td>\n",
       "      <td>0.735949</td>\n",
       "    </tr>\n",
       "    <tr>\n",
       "      <th>2002</th>\n",
       "      <td>100.0</td>\n",
       "      <td>0.968886</td>\n",
       "      <td>3.258234</td>\n",
       "      <td>0.582016</td>\n",
       "      <td>7.814392</td>\n",
       "      <td>3.375482</td>\n",
       "      <td>0.561548</td>\n",
       "      <td>1.988852</td>\n",
       "      <td>2.836645</td>\n",
       "      <td>17.511701</td>\n",
       "      <td>...</td>\n",
       "      <td>1.118866</td>\n",
       "      <td>1.735967</td>\n",
       "      <td>2.159707</td>\n",
       "      <td>3.038301</td>\n",
       "      <td>3.024744</td>\n",
       "      <td>3.033121</td>\n",
       "      <td>0.682716</td>\n",
       "      <td>4.864131</td>\n",
       "      <td>1.288982</td>\n",
       "      <td>0.791932</td>\n",
       "    </tr>\n",
       "    <tr>\n",
       "      <th>2003</th>\n",
       "      <td>100.0</td>\n",
       "      <td>0.965018</td>\n",
       "      <td>3.181076</td>\n",
       "      <td>0.605518</td>\n",
       "      <td>8.340653</td>\n",
       "      <td>3.476151</td>\n",
       "      <td>0.539313</td>\n",
       "      <td>1.975644</td>\n",
       "      <td>2.869844</td>\n",
       "      <td>16.983132</td>\n",
       "      <td>...</td>\n",
       "      <td>1.148434</td>\n",
       "      <td>1.785798</td>\n",
       "      <td>2.135877</td>\n",
       "      <td>2.910508</td>\n",
       "      <td>2.985017</td>\n",
       "      <td>3.117853</td>\n",
       "      <td>0.662899</td>\n",
       "      <td>4.885620</td>\n",
       "      <td>1.287006</td>\n",
       "      <td>0.807433</td>\n",
       "    </tr>\n",
       "    <tr>\n",
       "      <th>2004</th>\n",
       "      <td>100.0</td>\n",
       "      <td>0.969713</td>\n",
       "      <td>3.241251</td>\n",
       "      <td>0.624841</td>\n",
       "      <td>8.118814</td>\n",
       "      <td>3.441534</td>\n",
       "      <td>0.519467</td>\n",
       "      <td>1.826539</td>\n",
       "      <td>2.886152</td>\n",
       "      <td>17.063850</td>\n",
       "      <td>...</td>\n",
       "      <td>1.202554</td>\n",
       "      <td>1.819555</td>\n",
       "      <td>2.181177</td>\n",
       "      <td>2.946085</td>\n",
       "      <td>2.997873</td>\n",
       "      <td>3.142461</td>\n",
       "      <td>0.688008</td>\n",
       "      <td>4.933529</td>\n",
       "      <td>1.295056</td>\n",
       "      <td>0.809648</td>\n",
       "    </tr>\n",
       "    <tr>\n",
       "      <th>2005</th>\n",
       "      <td>100.0</td>\n",
       "      <td>0.971162</td>\n",
       "      <td>3.244060</td>\n",
       "      <td>0.654776</td>\n",
       "      <td>7.780607</td>\n",
       "      <td>3.437799</td>\n",
       "      <td>0.511384</td>\n",
       "      <td>1.800154</td>\n",
       "      <td>2.915934</td>\n",
       "      <td>16.917431</td>\n",
       "      <td>...</td>\n",
       "      <td>1.226289</td>\n",
       "      <td>1.852304</td>\n",
       "      <td>2.140504</td>\n",
       "      <td>3.033336</td>\n",
       "      <td>3.154694</td>\n",
       "      <td>3.270153</td>\n",
       "      <td>0.593954</td>\n",
       "      <td>4.861552</td>\n",
       "      <td>1.325377</td>\n",
       "      <td>0.791607</td>\n",
       "    </tr>\n",
       "    <tr>\n",
       "      <th>2006</th>\n",
       "      <td>100.0</td>\n",
       "      <td>0.991372</td>\n",
       "      <td>3.273324</td>\n",
       "      <td>0.672264</td>\n",
       "      <td>7.280543</td>\n",
       "      <td>3.448962</td>\n",
       "      <td>0.520650</td>\n",
       "      <td>1.783127</td>\n",
       "      <td>3.012131</td>\n",
       "      <td>17.045851</td>\n",
       "      <td>...</td>\n",
       "      <td>1.251595</td>\n",
       "      <td>1.856596</td>\n",
       "      <td>2.117174</td>\n",
       "      <td>3.083866</td>\n",
       "      <td>3.196449</td>\n",
       "      <td>3.227312</td>\n",
       "      <td>0.559097</td>\n",
       "      <td>4.913779</td>\n",
       "      <td>1.331258</td>\n",
       "      <td>0.804718</td>\n",
       "    </tr>\n",
       "    <tr>\n",
       "      <th>2007</th>\n",
       "      <td>100.0</td>\n",
       "      <td>1.054442</td>\n",
       "      <td>3.238152</td>\n",
       "      <td>0.745026</td>\n",
       "      <td>6.647570</td>\n",
       "      <td>3.511031</td>\n",
       "      <td>0.543874</td>\n",
       "      <td>1.771630</td>\n",
       "      <td>3.049220</td>\n",
       "      <td>16.896923</td>\n",
       "      <td>...</td>\n",
       "      <td>1.353292</td>\n",
       "      <td>1.854266</td>\n",
       "      <td>2.144048</td>\n",
       "      <td>3.054463</td>\n",
       "      <td>3.185522</td>\n",
       "      <td>3.255175</td>\n",
       "      <td>0.554350</td>\n",
       "      <td>4.950088</td>\n",
       "      <td>1.341454</td>\n",
       "      <td>0.813325</td>\n",
       "    </tr>\n",
       "    <tr>\n",
       "      <th>2008</th>\n",
       "      <td>100.0</td>\n",
       "      <td>1.048063</td>\n",
       "      <td>3.176868</td>\n",
       "      <td>0.756628</td>\n",
       "      <td>6.021285</td>\n",
       "      <td>3.459940</td>\n",
       "      <td>0.548185</td>\n",
       "      <td>1.793336</td>\n",
       "      <td>3.060476</td>\n",
       "      <td>17.013349</td>\n",
       "      <td>...</td>\n",
       "      <td>1.409581</td>\n",
       "      <td>1.874808</td>\n",
       "      <td>2.196668</td>\n",
       "      <td>3.032178</td>\n",
       "      <td>3.299388</td>\n",
       "      <td>3.355959</td>\n",
       "      <td>0.577992</td>\n",
       "      <td>4.890134</td>\n",
       "      <td>1.341123</td>\n",
       "      <td>0.877496</td>\n",
       "    </tr>\n",
       "    <tr>\n",
       "      <th>2009</th>\n",
       "      <td>100.0</td>\n",
       "      <td>1.049591</td>\n",
       "      <td>2.987468</td>\n",
       "      <td>0.793775</td>\n",
       "      <td>5.720444</td>\n",
       "      <td>3.086977</td>\n",
       "      <td>0.560110</td>\n",
       "      <td>1.880774</td>\n",
       "      <td>2.938622</td>\n",
       "      <td>17.309655</td>\n",
       "      <td>...</td>\n",
       "      <td>1.360377</td>\n",
       "      <td>1.874529</td>\n",
       "      <td>2.220501</td>\n",
       "      <td>3.006725</td>\n",
       "      <td>3.633677</td>\n",
       "      <td>3.221876</td>\n",
       "      <td>0.598888</td>\n",
       "      <td>5.048020</td>\n",
       "      <td>1.387440</td>\n",
       "      <td>0.956234</td>\n",
       "    </tr>\n",
       "    <tr>\n",
       "      <th>2010</th>\n",
       "      <td>100.0</td>\n",
       "      <td>1.060486</td>\n",
       "      <td>2.983212</td>\n",
       "      <td>0.770996</td>\n",
       "      <td>5.253258</td>\n",
       "      <td>3.413727</td>\n",
       "      <td>0.571278</td>\n",
       "      <td>1.888112</td>\n",
       "      <td>2.910986</td>\n",
       "      <td>17.048789</td>\n",
       "      <td>...</td>\n",
       "      <td>1.359695</td>\n",
       "      <td>1.877019</td>\n",
       "      <td>2.178417</td>\n",
       "      <td>3.006479</td>\n",
       "      <td>3.658008</td>\n",
       "      <td>3.122928</td>\n",
       "      <td>0.618781</td>\n",
       "      <td>5.003682</td>\n",
       "      <td>1.366670</td>\n",
       "      <td>1.008407</td>\n",
       "    </tr>\n",
       "    <tr>\n",
       "      <th>2011</th>\n",
       "      <td>100.0</td>\n",
       "      <td>1.068410</td>\n",
       "      <td>2.962535</td>\n",
       "      <td>0.771103</td>\n",
       "      <td>4.883798</td>\n",
       "      <td>3.517170</td>\n",
       "      <td>0.591195</td>\n",
       "      <td>1.878532</td>\n",
       "      <td>2.873325</td>\n",
       "      <td>17.033084</td>\n",
       "      <td>...</td>\n",
       "      <td>1.385162</td>\n",
       "      <td>1.908347</td>\n",
       "      <td>2.142827</td>\n",
       "      <td>3.169647</td>\n",
       "      <td>3.695608</td>\n",
       "      <td>3.070548</td>\n",
       "      <td>0.578334</td>\n",
       "      <td>5.020355</td>\n",
       "      <td>1.363919</td>\n",
       "      <td>0.973910</td>\n",
       "    </tr>\n",
       "    <tr>\n",
       "      <th>2012</th>\n",
       "      <td>100.0</td>\n",
       "      <td>1.086813</td>\n",
       "      <td>2.955250</td>\n",
       "      <td>0.760456</td>\n",
       "      <td>4.632152</td>\n",
       "      <td>3.561351</td>\n",
       "      <td>0.586743</td>\n",
       "      <td>1.845206</td>\n",
       "      <td>2.975610</td>\n",
       "      <td>17.069120</td>\n",
       "      <td>...</td>\n",
       "      <td>1.397900</td>\n",
       "      <td>1.926603</td>\n",
       "      <td>2.139794</td>\n",
       "      <td>3.213831</td>\n",
       "      <td>3.655007</td>\n",
       "      <td>3.022303</td>\n",
       "      <td>0.582714</td>\n",
       "      <td>5.053015</td>\n",
       "      <td>1.391360</td>\n",
       "      <td>0.963831</td>\n",
       "    </tr>\n",
       "    <tr>\n",
       "      <th>2013</th>\n",
       "      <td>100.0</td>\n",
       "      <td>1.104805</td>\n",
       "      <td>2.976002</td>\n",
       "      <td>0.735348</td>\n",
       "      <td>4.609746</td>\n",
       "      <td>3.440645</td>\n",
       "      <td>0.584445</td>\n",
       "      <td>1.795897</td>\n",
       "      <td>3.044824</td>\n",
       "      <td>17.088354</td>\n",
       "      <td>...</td>\n",
       "      <td>1.440121</td>\n",
       "      <td>1.968318</td>\n",
       "      <td>2.135814</td>\n",
       "      <td>3.262341</td>\n",
       "      <td>3.539229</td>\n",
       "      <td>3.025333</td>\n",
       "      <td>0.560377</td>\n",
       "      <td>4.995054</td>\n",
       "      <td>1.379489</td>\n",
       "      <td>0.938838</td>\n",
       "    </tr>\n",
       "    <tr>\n",
       "      <th>2014</th>\n",
       "      <td>100.0</td>\n",
       "      <td>1.189484</td>\n",
       "      <td>2.947346</td>\n",
       "      <td>0.715236</td>\n",
       "      <td>4.279213</td>\n",
       "      <td>3.523055</td>\n",
       "      <td>0.583462</td>\n",
       "      <td>1.837774</td>\n",
       "      <td>3.031374</td>\n",
       "      <td>16.997213</td>\n",
       "      <td>...</td>\n",
       "      <td>1.454872</td>\n",
       "      <td>1.963781</td>\n",
       "      <td>2.124523</td>\n",
       "      <td>3.232023</td>\n",
       "      <td>3.504380</td>\n",
       "      <td>2.979650</td>\n",
       "      <td>0.563467</td>\n",
       "      <td>4.924200</td>\n",
       "      <td>1.389057</td>\n",
       "      <td>0.977972</td>\n",
       "    </tr>\n",
       "    <tr>\n",
       "      <th>2015</th>\n",
       "      <td>100.0</td>\n",
       "      <td>1.195897</td>\n",
       "      <td>3.053101</td>\n",
       "      <td>0.785073</td>\n",
       "      <td>3.854507</td>\n",
       "      <td>3.462921</td>\n",
       "      <td>0.575440</td>\n",
       "      <td>1.752814</td>\n",
       "      <td>3.108920</td>\n",
       "      <td>17.117217</td>\n",
       "      <td>...</td>\n",
       "      <td>1.481554</td>\n",
       "      <td>1.992382</td>\n",
       "      <td>2.183927</td>\n",
       "      <td>3.243551</td>\n",
       "      <td>3.373718</td>\n",
       "      <td>2.960622</td>\n",
       "      <td>0.582991</td>\n",
       "      <td>4.851670</td>\n",
       "      <td>1.401348</td>\n",
       "      <td>0.960863</td>\n",
       "    </tr>\n",
       "    <tr>\n",
       "      <th>2016</th>\n",
       "      <td>100.0</td>\n",
       "      <td>1.270189</td>\n",
       "      <td>3.101849</td>\n",
       "      <td>0.788520</td>\n",
       "      <td>3.530961</td>\n",
       "      <td>3.423998</td>\n",
       "      <td>0.594502</td>\n",
       "      <td>1.707397</td>\n",
       "      <td>3.174852</td>\n",
       "      <td>17.397885</td>\n",
       "      <td>...</td>\n",
       "      <td>1.547214</td>\n",
       "      <td>2.011931</td>\n",
       "      <td>2.243103</td>\n",
       "      <td>3.334147</td>\n",
       "      <td>3.112910</td>\n",
       "      <td>2.882709</td>\n",
       "      <td>0.571143</td>\n",
       "      <td>4.719723</td>\n",
       "      <td>1.424056</td>\n",
       "      <td>0.919918</td>\n",
       "    </tr>\n",
       "    <tr>\n",
       "      <th>2017</th>\n",
       "      <td>100.0</td>\n",
       "      <td>1.295249</td>\n",
       "      <td>3.137969</td>\n",
       "      <td>0.855793</td>\n",
       "      <td>3.095601</td>\n",
       "      <td>3.533213</td>\n",
       "      <td>0.607145</td>\n",
       "      <td>1.628237</td>\n",
       "      <td>3.214868</td>\n",
       "      <td>17.540951</td>\n",
       "      <td>...</td>\n",
       "      <td>1.580731</td>\n",
       "      <td>2.066198</td>\n",
       "      <td>2.218027</td>\n",
       "      <td>3.293006</td>\n",
       "      <td>2.908040</td>\n",
       "      <td>2.821017</td>\n",
       "      <td>0.554107</td>\n",
       "      <td>4.588244</td>\n",
       "      <td>1.444338</td>\n",
       "      <td>0.899066</td>\n",
       "    </tr>\n",
       "    <tr>\n",
       "      <th>2018</th>\n",
       "      <td>100.0</td>\n",
       "      <td>1.310906</td>\n",
       "      <td>3.144706</td>\n",
       "      <td>0.982254</td>\n",
       "      <td>2.981470</td>\n",
       "      <td>3.504819</td>\n",
       "      <td>0.609435</td>\n",
       "      <td>1.560650</td>\n",
       "      <td>3.198497</td>\n",
       "      <td>17.639680</td>\n",
       "      <td>...</td>\n",
       "      <td>1.626724</td>\n",
       "      <td>2.108827</td>\n",
       "      <td>2.231465</td>\n",
       "      <td>3.262047</td>\n",
       "      <td>2.614137</td>\n",
       "      <td>2.824018</td>\n",
       "      <td>0.561109</td>\n",
       "      <td>4.594737</td>\n",
       "      <td>1.459664</td>\n",
       "      <td>0.879211</td>\n",
       "    </tr>\n",
       "  </tbody>\n",
       "</table>\n",
       "<p>19 rows × 33 columns</p>\n",
       "</div>"
      ],
      "text/plain": [
       "         Total nacional  Aguascalientes  Baja California  Baja California Sur  \\\n",
       "Periodo                                                                         \n",
       "2000              100.0        0.875012         3.656923             0.564814   \n",
       "2001              100.0        0.925019         3.399839             0.598247   \n",
       "2002              100.0        0.968886         3.258234             0.582016   \n",
       "2003              100.0        0.965018         3.181076             0.605518   \n",
       "2004              100.0        0.969713         3.241251             0.624841   \n",
       "2005              100.0        0.971162         3.244060             0.654776   \n",
       "2006              100.0        0.991372         3.273324             0.672264   \n",
       "2007              100.0        1.054442         3.238152             0.745026   \n",
       "2008              100.0        1.048063         3.176868             0.756628   \n",
       "2009              100.0        1.049591         2.987468             0.793775   \n",
       "2010              100.0        1.060486         2.983212             0.770996   \n",
       "2011              100.0        1.068410         2.962535             0.771103   \n",
       "2012              100.0        1.086813         2.955250             0.760456   \n",
       "2013              100.0        1.104805         2.976002             0.735348   \n",
       "2014              100.0        1.189484         2.947346             0.715236   \n",
       "2015              100.0        1.195897         3.053101             0.785073   \n",
       "2016              100.0        1.270189         3.101849             0.788520   \n",
       "2017              100.0        1.295249         3.137969             0.855793   \n",
       "2018              100.0        1.310906         3.144706             0.982254   \n",
       "\n",
       "         Campeche  Coahuila de Zaragoza    Colima   Chiapas  Chihuahua  \\\n",
       "Periodo                                                                  \n",
       "2000     7.049669              3.194620  0.565312  1.964046   3.001168   \n",
       "2001     7.612524              3.203350  0.556528  1.958205   2.874522   \n",
       "2002     7.814392              3.375482  0.561548  1.988852   2.836645   \n",
       "2003     8.340653              3.476151  0.539313  1.975644   2.869844   \n",
       "2004     8.118814              3.441534  0.519467  1.826539   2.886152   \n",
       "2005     7.780607              3.437799  0.511384  1.800154   2.915934   \n",
       "2006     7.280543              3.448962  0.520650  1.783127   3.012131   \n",
       "2007     6.647570              3.511031  0.543874  1.771630   3.049220   \n",
       "2008     6.021285              3.459940  0.548185  1.793336   3.060476   \n",
       "2009     5.720444              3.086977  0.560110  1.880774   2.938622   \n",
       "2010     5.253258              3.413727  0.571278  1.888112   2.910986   \n",
       "2011     4.883798              3.517170  0.591195  1.878532   2.873325   \n",
       "2012     4.632152              3.561351  0.586743  1.845206   2.975610   \n",
       "2013     4.609746              3.440645  0.584445  1.795897   3.044824   \n",
       "2014     4.279213              3.523055  0.583462  1.837774   3.031374   \n",
       "2015     3.854507              3.462921  0.575440  1.752814   3.108920   \n",
       "2016     3.530961              3.423998  0.594502  1.707397   3.174852   \n",
       "2017     3.095601              3.533213  0.607145  1.628237   3.214868   \n",
       "2018     2.981470              3.504819  0.609435  1.560650   3.198497   \n",
       "\n",
       "         Ciudad de México  ...  Quintana Roo  San Luis Potosí   Sinaloa  \\\n",
       "Periodo                    ...                                            \n",
       "2000            17.486739  ...      1.061132         1.736715  2.271884   \n",
       "2001            17.344489  ...      1.120510         1.729841  2.232357   \n",
       "2002            17.511701  ...      1.118866         1.735967  2.159707   \n",
       "2003            16.983132  ...      1.148434         1.785798  2.135877   \n",
       "2004            17.063850  ...      1.202554         1.819555  2.181177   \n",
       "2005            16.917431  ...      1.226289         1.852304  2.140504   \n",
       "2006            17.045851  ...      1.251595         1.856596  2.117174   \n",
       "2007            16.896923  ...      1.353292         1.854266  2.144048   \n",
       "2008            17.013349  ...      1.409581         1.874808  2.196668   \n",
       "2009            17.309655  ...      1.360377         1.874529  2.220501   \n",
       "2010            17.048789  ...      1.359695         1.877019  2.178417   \n",
       "2011            17.033084  ...      1.385162         1.908347  2.142827   \n",
       "2012            17.069120  ...      1.397900         1.926603  2.139794   \n",
       "2013            17.088354  ...      1.440121         1.968318  2.135814   \n",
       "2014            16.997213  ...      1.454872         1.963781  2.124523   \n",
       "2015            17.117217  ...      1.481554         1.992382  2.183927   \n",
       "2016            17.397885  ...      1.547214         2.011931  2.243103   \n",
       "2017            17.540951  ...      1.580731         2.066198  2.218027   \n",
       "2018            17.639680  ...      1.626724         2.108827  2.231465   \n",
       "\n",
       "           Sonora   Tabasco  Tamaulipas  Tlaxcala  \\\n",
       "Periodo                                             \n",
       "2000     3.388506  3.289684    3.050097  0.678779   \n",
       "2001     3.291699  3.208253    2.918242  0.704725   \n",
       "2002     3.038301  3.024744    3.033121  0.682716   \n",
       "2003     2.910508  2.985017    3.117853  0.662899   \n",
       "2004     2.946085  2.997873    3.142461  0.688008   \n",
       "2005     3.033336  3.154694    3.270153  0.593954   \n",
       "2006     3.083866  3.196449    3.227312  0.559097   \n",
       "2007     3.054463  3.185522    3.255175  0.554350   \n",
       "2008     3.032178  3.299388    3.355959  0.577992   \n",
       "2009     3.006725  3.633677    3.221876  0.598888   \n",
       "2010     3.006479  3.658008    3.122928  0.618781   \n",
       "2011     3.169647  3.695608    3.070548  0.578334   \n",
       "2012     3.213831  3.655007    3.022303  0.582714   \n",
       "2013     3.262341  3.539229    3.025333  0.560377   \n",
       "2014     3.232023  3.504380    2.979650  0.563467   \n",
       "2015     3.243551  3.373718    2.960622  0.582991   \n",
       "2016     3.334147  3.112910    2.882709  0.571143   \n",
       "2017     3.293006  2.908040    2.821017  0.554107   \n",
       "2018     3.262047  2.614137    2.824018  0.561109   \n",
       "\n",
       "         Veracruz de Ignacio de la Llave   Yucatán  Zacatecas  \n",
       "Periodo                                                        \n",
       "2000                            4.960792  1.270705   0.707104  \n",
       "2001                            4.887236  1.298729   0.735949  \n",
       "2002                            4.864131  1.288982   0.791932  \n",
       "2003                            4.885620  1.287006   0.807433  \n",
       "2004                            4.933529  1.295056   0.809648  \n",
       "2005                            4.861552  1.325377   0.791607  \n",
       "2006                            4.913779  1.331258   0.804718  \n",
       "2007                            4.950088  1.341454   0.813325  \n",
       "2008                            4.890134  1.341123   0.877496  \n",
       "2009                            5.048020  1.387440   0.956234  \n",
       "2010                            5.003682  1.366670   1.008407  \n",
       "2011                            5.020355  1.363919   0.973910  \n",
       "2012                            5.053015  1.391360   0.963831  \n",
       "2013                            4.995054  1.379489   0.938838  \n",
       "2014                            4.924200  1.389057   0.977972  \n",
       "2015                            4.851670  1.401348   0.960863  \n",
       "2016                            4.719723  1.424056   0.919918  \n",
       "2017                            4.588244  1.444338   0.899066  \n",
       "2018                            4.594737  1.459664   0.879211  \n",
       "\n",
       "[19 rows x 33 columns]"
      ]
     },
     "metadata": {},
     "output_type": "display_data"
    },
    {
     "data": {
      "application/vnd.plotly.v1+json": {
       "config": {
        "plotlyServerURL": "https://plot.ly"
       },
       "data": [
        {
         "type": "bar",
         "x": [
          "Aguascalientes",
          "Baja California",
          "Baja California Sur",
          "Campeche",
          "Coahuila de Zaragoza",
          "Colima",
          "Chiapas",
          "Chihuahua",
          "Ciudad de México",
          "Durango",
          "Guanajuato",
          "Guerrero",
          "Hidalgo",
          "Jalisco",
          "México",
          "Michoacán de Ocampo",
          "Morelos",
          "Nayarit",
          "Nuevo León",
          "Oaxaca",
          "Puebla",
          "Querétaro",
          "Quintana Roo",
          "San Luis Potosí",
          "Sinaloa",
          "Sonora",
          "Tabasco",
          "Tamaulipas",
          "Tlaxcala",
          "Veracruz de Ignacio de la Llave",
          "Yucatán",
          "Zacatecas"
         ],
         "y": [
          0.8750120851857874,
          3.6569227354170746,
          0.5648137631969548,
          7.049669390315678,
          3.1946204223843386,
          0.5653119028364894,
          1.9640463054875057,
          3.0011675546672496,
          17.48673921940861,
          1.1094717909937413,
          3.2622807325155905,
          1.4798212920865055,
          1.4612043084337607,
          6.649234226950099,
          8.526287999134393,
          2.3740187725580517,
          1.2063948458096825,
          0.6311810365054928,
          6.080774669160436,
          1.6124435079778145,
          3.1151077139952146,
          1.7180783935653796,
          1.0611323415874776,
          1.7367151851613978,
          2.2718838661722662,
          3.388505834511373,
          3.2896836278442336,
          3.0500967263213585,
          0.678778712587799,
          4.9607917468635945,
          1.2707052349674235,
          0.7071041839680462
         ]
        }
       ],
       "layout": {
        "template": {
         "data": {
          "bar": [
           {
            "error_x": {
             "color": "#2a3f5f"
            },
            "error_y": {
             "color": "#2a3f5f"
            },
            "marker": {
             "line": {
              "color": "#E5ECF6",
              "width": 0.5
             }
            },
            "type": "bar"
           }
          ],
          "barpolar": [
           {
            "marker": {
             "line": {
              "color": "#E5ECF6",
              "width": 0.5
             }
            },
            "type": "barpolar"
           }
          ],
          "carpet": [
           {
            "aaxis": {
             "endlinecolor": "#2a3f5f",
             "gridcolor": "white",
             "linecolor": "white",
             "minorgridcolor": "white",
             "startlinecolor": "#2a3f5f"
            },
            "baxis": {
             "endlinecolor": "#2a3f5f",
             "gridcolor": "white",
             "linecolor": "white",
             "minorgridcolor": "white",
             "startlinecolor": "#2a3f5f"
            },
            "type": "carpet"
           }
          ],
          "choropleth": [
           {
            "colorbar": {
             "outlinewidth": 0,
             "ticks": ""
            },
            "type": "choropleth"
           }
          ],
          "contour": [
           {
            "colorbar": {
             "outlinewidth": 0,
             "ticks": ""
            },
            "colorscale": [
             [
              0,
              "#0d0887"
             ],
             [
              0.1111111111111111,
              "#46039f"
             ],
             [
              0.2222222222222222,
              "#7201a8"
             ],
             [
              0.3333333333333333,
              "#9c179e"
             ],
             [
              0.4444444444444444,
              "#bd3786"
             ],
             [
              0.5555555555555556,
              "#d8576b"
             ],
             [
              0.6666666666666666,
              "#ed7953"
             ],
             [
              0.7777777777777778,
              "#fb9f3a"
             ],
             [
              0.8888888888888888,
              "#fdca26"
             ],
             [
              1,
              "#f0f921"
             ]
            ],
            "type": "contour"
           }
          ],
          "contourcarpet": [
           {
            "colorbar": {
             "outlinewidth": 0,
             "ticks": ""
            },
            "type": "contourcarpet"
           }
          ],
          "heatmap": [
           {
            "colorbar": {
             "outlinewidth": 0,
             "ticks": ""
            },
            "colorscale": [
             [
              0,
              "#0d0887"
             ],
             [
              0.1111111111111111,
              "#46039f"
             ],
             [
              0.2222222222222222,
              "#7201a8"
             ],
             [
              0.3333333333333333,
              "#9c179e"
             ],
             [
              0.4444444444444444,
              "#bd3786"
             ],
             [
              0.5555555555555556,
              "#d8576b"
             ],
             [
              0.6666666666666666,
              "#ed7953"
             ],
             [
              0.7777777777777778,
              "#fb9f3a"
             ],
             [
              0.8888888888888888,
              "#fdca26"
             ],
             [
              1,
              "#f0f921"
             ]
            ],
            "type": "heatmap"
           }
          ],
          "heatmapgl": [
           {
            "colorbar": {
             "outlinewidth": 0,
             "ticks": ""
            },
            "colorscale": [
             [
              0,
              "#0d0887"
             ],
             [
              0.1111111111111111,
              "#46039f"
             ],
             [
              0.2222222222222222,
              "#7201a8"
             ],
             [
              0.3333333333333333,
              "#9c179e"
             ],
             [
              0.4444444444444444,
              "#bd3786"
             ],
             [
              0.5555555555555556,
              "#d8576b"
             ],
             [
              0.6666666666666666,
              "#ed7953"
             ],
             [
              0.7777777777777778,
              "#fb9f3a"
             ],
             [
              0.8888888888888888,
              "#fdca26"
             ],
             [
              1,
              "#f0f921"
             ]
            ],
            "type": "heatmapgl"
           }
          ],
          "histogram": [
           {
            "marker": {
             "colorbar": {
              "outlinewidth": 0,
              "ticks": ""
             }
            },
            "type": "histogram"
           }
          ],
          "histogram2d": [
           {
            "colorbar": {
             "outlinewidth": 0,
             "ticks": ""
            },
            "colorscale": [
             [
              0,
              "#0d0887"
             ],
             [
              0.1111111111111111,
              "#46039f"
             ],
             [
              0.2222222222222222,
              "#7201a8"
             ],
             [
              0.3333333333333333,
              "#9c179e"
             ],
             [
              0.4444444444444444,
              "#bd3786"
             ],
             [
              0.5555555555555556,
              "#d8576b"
             ],
             [
              0.6666666666666666,
              "#ed7953"
             ],
             [
              0.7777777777777778,
              "#fb9f3a"
             ],
             [
              0.8888888888888888,
              "#fdca26"
             ],
             [
              1,
              "#f0f921"
             ]
            ],
            "type": "histogram2d"
           }
          ],
          "histogram2dcontour": [
           {
            "colorbar": {
             "outlinewidth": 0,
             "ticks": ""
            },
            "colorscale": [
             [
              0,
              "#0d0887"
             ],
             [
              0.1111111111111111,
              "#46039f"
             ],
             [
              0.2222222222222222,
              "#7201a8"
             ],
             [
              0.3333333333333333,
              "#9c179e"
             ],
             [
              0.4444444444444444,
              "#bd3786"
             ],
             [
              0.5555555555555556,
              "#d8576b"
             ],
             [
              0.6666666666666666,
              "#ed7953"
             ],
             [
              0.7777777777777778,
              "#fb9f3a"
             ],
             [
              0.8888888888888888,
              "#fdca26"
             ],
             [
              1,
              "#f0f921"
             ]
            ],
            "type": "histogram2dcontour"
           }
          ],
          "mesh3d": [
           {
            "colorbar": {
             "outlinewidth": 0,
             "ticks": ""
            },
            "type": "mesh3d"
           }
          ],
          "parcoords": [
           {
            "line": {
             "colorbar": {
              "outlinewidth": 0,
              "ticks": ""
             }
            },
            "type": "parcoords"
           }
          ],
          "scatter": [
           {
            "marker": {
             "colorbar": {
              "outlinewidth": 0,
              "ticks": ""
             }
            },
            "type": "scatter"
           }
          ],
          "scatter3d": [
           {
            "line": {
             "colorbar": {
              "outlinewidth": 0,
              "ticks": ""
             }
            },
            "marker": {
             "colorbar": {
              "outlinewidth": 0,
              "ticks": ""
             }
            },
            "type": "scatter3d"
           }
          ],
          "scattercarpet": [
           {
            "marker": {
             "colorbar": {
              "outlinewidth": 0,
              "ticks": ""
             }
            },
            "type": "scattercarpet"
           }
          ],
          "scattergeo": [
           {
            "marker": {
             "colorbar": {
              "outlinewidth": 0,
              "ticks": ""
             }
            },
            "type": "scattergeo"
           }
          ],
          "scattergl": [
           {
            "marker": {
             "colorbar": {
              "outlinewidth": 0,
              "ticks": ""
             }
            },
            "type": "scattergl"
           }
          ],
          "scattermapbox": [
           {
            "marker": {
             "colorbar": {
              "outlinewidth": 0,
              "ticks": ""
             }
            },
            "type": "scattermapbox"
           }
          ],
          "scatterpolar": [
           {
            "marker": {
             "colorbar": {
              "outlinewidth": 0,
              "ticks": ""
             }
            },
            "type": "scatterpolar"
           }
          ],
          "scatterpolargl": [
           {
            "marker": {
             "colorbar": {
              "outlinewidth": 0,
              "ticks": ""
             }
            },
            "type": "scatterpolargl"
           }
          ],
          "scatterternary": [
           {
            "marker": {
             "colorbar": {
              "outlinewidth": 0,
              "ticks": ""
             }
            },
            "type": "scatterternary"
           }
          ],
          "surface": [
           {
            "colorbar": {
             "outlinewidth": 0,
             "ticks": ""
            },
            "colorscale": [
             [
              0,
              "#0d0887"
             ],
             [
              0.1111111111111111,
              "#46039f"
             ],
             [
              0.2222222222222222,
              "#7201a8"
             ],
             [
              0.3333333333333333,
              "#9c179e"
             ],
             [
              0.4444444444444444,
              "#bd3786"
             ],
             [
              0.5555555555555556,
              "#d8576b"
             ],
             [
              0.6666666666666666,
              "#ed7953"
             ],
             [
              0.7777777777777778,
              "#fb9f3a"
             ],
             [
              0.8888888888888888,
              "#fdca26"
             ],
             [
              1,
              "#f0f921"
             ]
            ],
            "type": "surface"
           }
          ],
          "table": [
           {
            "cells": {
             "fill": {
              "color": "#EBF0F8"
             },
             "line": {
              "color": "white"
             }
            },
            "header": {
             "fill": {
              "color": "#C8D4E3"
             },
             "line": {
              "color": "white"
             }
            },
            "type": "table"
           }
          ]
         },
         "layout": {
          "annotationdefaults": {
           "arrowcolor": "#2a3f5f",
           "arrowhead": 0,
           "arrowwidth": 1
          },
          "colorscale": {
           "diverging": [
            [
             0,
             "#8e0152"
            ],
            [
             0.1,
             "#c51b7d"
            ],
            [
             0.2,
             "#de77ae"
            ],
            [
             0.3,
             "#f1b6da"
            ],
            [
             0.4,
             "#fde0ef"
            ],
            [
             0.5,
             "#f7f7f7"
            ],
            [
             0.6,
             "#e6f5d0"
            ],
            [
             0.7,
             "#b8e186"
            ],
            [
             0.8,
             "#7fbc41"
            ],
            [
             0.9,
             "#4d9221"
            ],
            [
             1,
             "#276419"
            ]
           ],
           "sequential": [
            [
             0,
             "#0d0887"
            ],
            [
             0.1111111111111111,
             "#46039f"
            ],
            [
             0.2222222222222222,
             "#7201a8"
            ],
            [
             0.3333333333333333,
             "#9c179e"
            ],
            [
             0.4444444444444444,
             "#bd3786"
            ],
            [
             0.5555555555555556,
             "#d8576b"
            ],
            [
             0.6666666666666666,
             "#ed7953"
            ],
            [
             0.7777777777777778,
             "#fb9f3a"
            ],
            [
             0.8888888888888888,
             "#fdca26"
            ],
            [
             1,
             "#f0f921"
            ]
           ],
           "sequentialminus": [
            [
             0,
             "#0d0887"
            ],
            [
             0.1111111111111111,
             "#46039f"
            ],
            [
             0.2222222222222222,
             "#7201a8"
            ],
            [
             0.3333333333333333,
             "#9c179e"
            ],
            [
             0.4444444444444444,
             "#bd3786"
            ],
            [
             0.5555555555555556,
             "#d8576b"
            ],
            [
             0.6666666666666666,
             "#ed7953"
            ],
            [
             0.7777777777777778,
             "#fb9f3a"
            ],
            [
             0.8888888888888888,
             "#fdca26"
            ],
            [
             1,
             "#f0f921"
            ]
           ]
          },
          "colorway": [
           "#636efa",
           "#EF553B",
           "#00cc96",
           "#ab63fa",
           "#FFA15A",
           "#19d3f3",
           "#FF6692",
           "#B6E880",
           "#FF97FF",
           "#FECB52"
          ],
          "font": {
           "color": "#2a3f5f"
          },
          "geo": {
           "bgcolor": "white",
           "lakecolor": "white",
           "landcolor": "#E5ECF6",
           "showlakes": true,
           "showland": true,
           "subunitcolor": "white"
          },
          "hoverlabel": {
           "align": "left"
          },
          "hovermode": "closest",
          "mapbox": {
           "style": "light"
          },
          "paper_bgcolor": "white",
          "plot_bgcolor": "#E5ECF6",
          "polar": {
           "angularaxis": {
            "gridcolor": "white",
            "linecolor": "white",
            "ticks": ""
           },
           "bgcolor": "#E5ECF6",
           "radialaxis": {
            "gridcolor": "white",
            "linecolor": "white",
            "ticks": ""
           }
          },
          "scene": {
           "xaxis": {
            "backgroundcolor": "#E5ECF6",
            "gridcolor": "white",
            "gridwidth": 2,
            "linecolor": "white",
            "showbackground": true,
            "ticks": "",
            "zerolinecolor": "white"
           },
           "yaxis": {
            "backgroundcolor": "#E5ECF6",
            "gridcolor": "white",
            "gridwidth": 2,
            "linecolor": "white",
            "showbackground": true,
            "ticks": "",
            "zerolinecolor": "white"
           },
           "zaxis": {
            "backgroundcolor": "#E5ECF6",
            "gridcolor": "white",
            "gridwidth": 2,
            "linecolor": "white",
            "showbackground": true,
            "ticks": "",
            "zerolinecolor": "white"
           }
          },
          "shapedefaults": {
           "line": {
            "color": "#2a3f5f"
           }
          },
          "ternary": {
           "aaxis": {
            "gridcolor": "white",
            "linecolor": "white",
            "ticks": ""
           },
           "baxis": {
            "gridcolor": "white",
            "linecolor": "white",
            "ticks": ""
           },
           "bgcolor": "#E5ECF6",
           "caxis": {
            "gridcolor": "white",
            "linecolor": "white",
            "ticks": ""
           }
          },
          "title": {
           "x": 0.05
          },
          "xaxis": {
           "automargin": true,
           "gridcolor": "white",
           "linecolor": "white",
           "ticks": "",
           "zerolinecolor": "white",
           "zerolinewidth": 2
          },
          "yaxis": {
           "automargin": true,
           "gridcolor": "white",
           "linecolor": "white",
           "ticks": "",
           "zerolinecolor": "white",
           "zerolinewidth": 2
          }
         }
        },
        "xaxis": {
         "categoryorder": "total descending",
         "tickmode": "linear"
        }
       }
      },
      "text/html": [
       "<div>\n",
       "        \n",
       "        \n",
       "            <div id=\"219fae56-d77f-4db9-8611-bc3975ad2fbd\" class=\"plotly-graph-div\" style=\"height:525px; width:100%;\"></div>\n",
       "            <script type=\"text/javascript\">\n",
       "                require([\"plotly\"], function(Plotly) {\n",
       "                    window.PLOTLYENV=window.PLOTLYENV || {};\n",
       "                    \n",
       "                if (document.getElementById(\"219fae56-d77f-4db9-8611-bc3975ad2fbd\")) {\n",
       "                    Plotly.newPlot(\n",
       "                        '219fae56-d77f-4db9-8611-bc3975ad2fbd',\n",
       "                        [{\"type\": \"bar\", \"x\": [\"Aguascalientes\", \"Baja California\", \"Baja California Sur\", \"Campeche\", \"Coahuila de Zaragoza\", \"Colima\", \"Chiapas\", \"Chihuahua\", \"Ciudad de M\\u00e9xico\", \"Durango\", \"Guanajuato\", \"Guerrero\", \"Hidalgo\", \"Jalisco\", \"M\\u00e9xico\", \"Michoac\\u00e1n de Ocampo\", \"Morelos\", \"Nayarit\", \"Nuevo Le\\u00f3n\", \"Oaxaca\", \"Puebla\", \"Quer\\u00e9taro\", \"Quintana Roo\", \"San Luis Potos\\u00ed\", \"Sinaloa\", \"Sonora\", \"Tabasco\", \"Tamaulipas\", \"Tlaxcala\", \"Veracruz de Ignacio de la Llave\", \"Yucat\\u00e1n\", \"Zacatecas\"], \"y\": [0.8750120851857874, 3.6569227354170746, 0.5648137631969548, 7.049669390315678, 3.1946204223843386, 0.5653119028364894, 1.9640463054875057, 3.0011675546672496, 17.48673921940861, 1.1094717909937413, 3.2622807325155905, 1.4798212920865055, 1.4612043084337607, 6.649234226950099, 8.526287999134393, 2.3740187725580517, 1.2063948458096825, 0.6311810365054928, 6.080774669160436, 1.6124435079778145, 3.1151077139952146, 1.7180783935653796, 1.0611323415874776, 1.7367151851613978, 2.2718838661722662, 3.388505834511373, 3.2896836278442336, 3.0500967263213585, 0.678778712587799, 4.9607917468635945, 1.2707052349674235, 0.7071041839680462]}],\n",
       "                        {\"template\": {\"data\": {\"bar\": [{\"error_x\": {\"color\": \"#2a3f5f\"}, \"error_y\": {\"color\": \"#2a3f5f\"}, \"marker\": {\"line\": {\"color\": \"#E5ECF6\", \"width\": 0.5}}, \"type\": \"bar\"}], \"barpolar\": [{\"marker\": {\"line\": {\"color\": \"#E5ECF6\", \"width\": 0.5}}, \"type\": \"barpolar\"}], \"carpet\": [{\"aaxis\": {\"endlinecolor\": \"#2a3f5f\", \"gridcolor\": \"white\", \"linecolor\": \"white\", \"minorgridcolor\": \"white\", \"startlinecolor\": \"#2a3f5f\"}, \"baxis\": {\"endlinecolor\": \"#2a3f5f\", \"gridcolor\": \"white\", \"linecolor\": \"white\", \"minorgridcolor\": \"white\", \"startlinecolor\": \"#2a3f5f\"}, \"type\": \"carpet\"}], \"choropleth\": [{\"colorbar\": {\"outlinewidth\": 0, \"ticks\": \"\"}, \"type\": \"choropleth\"}], \"contour\": [{\"colorbar\": {\"outlinewidth\": 0, \"ticks\": \"\"}, \"colorscale\": [[0.0, \"#0d0887\"], [0.1111111111111111, \"#46039f\"], [0.2222222222222222, \"#7201a8\"], [0.3333333333333333, \"#9c179e\"], [0.4444444444444444, \"#bd3786\"], [0.5555555555555556, \"#d8576b\"], [0.6666666666666666, \"#ed7953\"], [0.7777777777777778, \"#fb9f3a\"], [0.8888888888888888, \"#fdca26\"], [1.0, \"#f0f921\"]], \"type\": \"contour\"}], \"contourcarpet\": [{\"colorbar\": {\"outlinewidth\": 0, \"ticks\": \"\"}, \"type\": \"contourcarpet\"}], \"heatmap\": [{\"colorbar\": {\"outlinewidth\": 0, \"ticks\": \"\"}, \"colorscale\": [[0.0, \"#0d0887\"], [0.1111111111111111, \"#46039f\"], [0.2222222222222222, \"#7201a8\"], [0.3333333333333333, \"#9c179e\"], [0.4444444444444444, \"#bd3786\"], [0.5555555555555556, \"#d8576b\"], [0.6666666666666666, \"#ed7953\"], [0.7777777777777778, \"#fb9f3a\"], [0.8888888888888888, \"#fdca26\"], [1.0, \"#f0f921\"]], \"type\": \"heatmap\"}], \"heatmapgl\": [{\"colorbar\": {\"outlinewidth\": 0, \"ticks\": \"\"}, \"colorscale\": [[0.0, \"#0d0887\"], [0.1111111111111111, \"#46039f\"], [0.2222222222222222, \"#7201a8\"], [0.3333333333333333, \"#9c179e\"], [0.4444444444444444, \"#bd3786\"], [0.5555555555555556, \"#d8576b\"], [0.6666666666666666, \"#ed7953\"], [0.7777777777777778, \"#fb9f3a\"], [0.8888888888888888, \"#fdca26\"], [1.0, \"#f0f921\"]], \"type\": \"heatmapgl\"}], \"histogram\": [{\"marker\": {\"colorbar\": {\"outlinewidth\": 0, \"ticks\": \"\"}}, \"type\": \"histogram\"}], \"histogram2d\": [{\"colorbar\": {\"outlinewidth\": 0, \"ticks\": \"\"}, \"colorscale\": [[0.0, \"#0d0887\"], [0.1111111111111111, \"#46039f\"], [0.2222222222222222, \"#7201a8\"], [0.3333333333333333, \"#9c179e\"], [0.4444444444444444, \"#bd3786\"], [0.5555555555555556, \"#d8576b\"], [0.6666666666666666, \"#ed7953\"], [0.7777777777777778, \"#fb9f3a\"], [0.8888888888888888, \"#fdca26\"], [1.0, \"#f0f921\"]], \"type\": \"histogram2d\"}], \"histogram2dcontour\": [{\"colorbar\": {\"outlinewidth\": 0, \"ticks\": \"\"}, \"colorscale\": [[0.0, \"#0d0887\"], [0.1111111111111111, \"#46039f\"], [0.2222222222222222, \"#7201a8\"], [0.3333333333333333, \"#9c179e\"], [0.4444444444444444, \"#bd3786\"], [0.5555555555555556, \"#d8576b\"], [0.6666666666666666, \"#ed7953\"], [0.7777777777777778, \"#fb9f3a\"], [0.8888888888888888, \"#fdca26\"], [1.0, \"#f0f921\"]], \"type\": \"histogram2dcontour\"}], \"mesh3d\": [{\"colorbar\": {\"outlinewidth\": 0, \"ticks\": \"\"}, \"type\": \"mesh3d\"}], \"parcoords\": [{\"line\": {\"colorbar\": {\"outlinewidth\": 0, \"ticks\": \"\"}}, \"type\": \"parcoords\"}], \"scatter\": [{\"marker\": {\"colorbar\": {\"outlinewidth\": 0, \"ticks\": \"\"}}, \"type\": \"scatter\"}], \"scatter3d\": [{\"line\": {\"colorbar\": {\"outlinewidth\": 0, \"ticks\": \"\"}}, \"marker\": {\"colorbar\": {\"outlinewidth\": 0, \"ticks\": \"\"}}, \"type\": \"scatter3d\"}], \"scattercarpet\": [{\"marker\": {\"colorbar\": {\"outlinewidth\": 0, \"ticks\": \"\"}}, \"type\": \"scattercarpet\"}], \"scattergeo\": [{\"marker\": {\"colorbar\": {\"outlinewidth\": 0, \"ticks\": \"\"}}, \"type\": \"scattergeo\"}], \"scattergl\": [{\"marker\": {\"colorbar\": {\"outlinewidth\": 0, \"ticks\": \"\"}}, \"type\": \"scattergl\"}], \"scattermapbox\": [{\"marker\": {\"colorbar\": {\"outlinewidth\": 0, \"ticks\": \"\"}}, \"type\": \"scattermapbox\"}], \"scatterpolar\": [{\"marker\": {\"colorbar\": {\"outlinewidth\": 0, \"ticks\": \"\"}}, \"type\": \"scatterpolar\"}], \"scatterpolargl\": [{\"marker\": {\"colorbar\": {\"outlinewidth\": 0, \"ticks\": \"\"}}, \"type\": \"scatterpolargl\"}], \"scatterternary\": [{\"marker\": {\"colorbar\": {\"outlinewidth\": 0, \"ticks\": \"\"}}, \"type\": \"scatterternary\"}], \"surface\": [{\"colorbar\": {\"outlinewidth\": 0, \"ticks\": \"\"}, \"colorscale\": [[0.0, \"#0d0887\"], [0.1111111111111111, \"#46039f\"], [0.2222222222222222, \"#7201a8\"], [0.3333333333333333, \"#9c179e\"], [0.4444444444444444, \"#bd3786\"], [0.5555555555555556, \"#d8576b\"], [0.6666666666666666, \"#ed7953\"], [0.7777777777777778, \"#fb9f3a\"], [0.8888888888888888, \"#fdca26\"], [1.0, \"#f0f921\"]], \"type\": \"surface\"}], \"table\": [{\"cells\": {\"fill\": {\"color\": \"#EBF0F8\"}, \"line\": {\"color\": \"white\"}}, \"header\": {\"fill\": {\"color\": \"#C8D4E3\"}, \"line\": {\"color\": \"white\"}}, \"type\": \"table\"}]}, \"layout\": {\"annotationdefaults\": {\"arrowcolor\": \"#2a3f5f\", \"arrowhead\": 0, \"arrowwidth\": 1}, \"colorscale\": {\"diverging\": [[0, \"#8e0152\"], [0.1, \"#c51b7d\"], [0.2, \"#de77ae\"], [0.3, \"#f1b6da\"], [0.4, \"#fde0ef\"], [0.5, \"#f7f7f7\"], [0.6, \"#e6f5d0\"], [0.7, \"#b8e186\"], [0.8, \"#7fbc41\"], [0.9, \"#4d9221\"], [1, \"#276419\"]], \"sequential\": [[0.0, \"#0d0887\"], [0.1111111111111111, \"#46039f\"], [0.2222222222222222, \"#7201a8\"], [0.3333333333333333, \"#9c179e\"], [0.4444444444444444, \"#bd3786\"], [0.5555555555555556, \"#d8576b\"], [0.6666666666666666, \"#ed7953\"], [0.7777777777777778, \"#fb9f3a\"], [0.8888888888888888, \"#fdca26\"], [1.0, \"#f0f921\"]], \"sequentialminus\": [[0.0, \"#0d0887\"], [0.1111111111111111, \"#46039f\"], [0.2222222222222222, \"#7201a8\"], [0.3333333333333333, \"#9c179e\"], [0.4444444444444444, \"#bd3786\"], [0.5555555555555556, \"#d8576b\"], [0.6666666666666666, \"#ed7953\"], [0.7777777777777778, \"#fb9f3a\"], [0.8888888888888888, \"#fdca26\"], [1.0, \"#f0f921\"]]}, \"colorway\": [\"#636efa\", \"#EF553B\", \"#00cc96\", \"#ab63fa\", \"#FFA15A\", \"#19d3f3\", \"#FF6692\", \"#B6E880\", \"#FF97FF\", \"#FECB52\"], \"font\": {\"color\": \"#2a3f5f\"}, \"geo\": {\"bgcolor\": \"white\", \"lakecolor\": \"white\", \"landcolor\": \"#E5ECF6\", \"showlakes\": true, \"showland\": true, \"subunitcolor\": \"white\"}, \"hoverlabel\": {\"align\": \"left\"}, \"hovermode\": \"closest\", \"mapbox\": {\"style\": \"light\"}, \"paper_bgcolor\": \"white\", \"plot_bgcolor\": \"#E5ECF6\", \"polar\": {\"angularaxis\": {\"gridcolor\": \"white\", \"linecolor\": \"white\", \"ticks\": \"\"}, \"bgcolor\": \"#E5ECF6\", \"radialaxis\": {\"gridcolor\": \"white\", \"linecolor\": \"white\", \"ticks\": \"\"}}, \"scene\": {\"xaxis\": {\"backgroundcolor\": \"#E5ECF6\", \"gridcolor\": \"white\", \"gridwidth\": 2, \"linecolor\": \"white\", \"showbackground\": true, \"ticks\": \"\", \"zerolinecolor\": \"white\"}, \"yaxis\": {\"backgroundcolor\": \"#E5ECF6\", \"gridcolor\": \"white\", \"gridwidth\": 2, \"linecolor\": \"white\", \"showbackground\": true, \"ticks\": \"\", \"zerolinecolor\": \"white\"}, \"zaxis\": {\"backgroundcolor\": \"#E5ECF6\", \"gridcolor\": \"white\", \"gridwidth\": 2, \"linecolor\": \"white\", \"showbackground\": true, \"ticks\": \"\", \"zerolinecolor\": \"white\"}}, \"shapedefaults\": {\"line\": {\"color\": \"#2a3f5f\"}}, \"ternary\": {\"aaxis\": {\"gridcolor\": \"white\", \"linecolor\": \"white\", \"ticks\": \"\"}, \"baxis\": {\"gridcolor\": \"white\", \"linecolor\": \"white\", \"ticks\": \"\"}, \"bgcolor\": \"#E5ECF6\", \"caxis\": {\"gridcolor\": \"white\", \"linecolor\": \"white\", \"ticks\": \"\"}}, \"title\": {\"x\": 0.05}, \"xaxis\": {\"automargin\": true, \"gridcolor\": \"white\", \"linecolor\": \"white\", \"ticks\": \"\", \"zerolinecolor\": \"white\", \"zerolinewidth\": 2}, \"yaxis\": {\"automargin\": true, \"gridcolor\": \"white\", \"linecolor\": \"white\", \"ticks\": \"\", \"zerolinecolor\": \"white\", \"zerolinewidth\": 2}}}, \"xaxis\": {\"categoryorder\": \"total descending\", \"tickmode\": \"linear\"}},\n",
       "                        {\"responsive\": true}\n",
       "                    ).then(function(){\n",
       "                            \n",
       "var gd = document.getElementById('219fae56-d77f-4db9-8611-bc3975ad2fbd');\n",
       "var x = new MutationObserver(function (mutations, observer) {{\n",
       "        var display = window.getComputedStyle(gd).display;\n",
       "        if (!display || display === 'none') {{\n",
       "            console.log([gd, 'removed!']);\n",
       "            Plotly.purge(gd);\n",
       "            observer.disconnect();\n",
       "        }}\n",
       "}});\n",
       "\n",
       "// Listen for the removal of the full notebook cells\n",
       "var notebookContainer = gd.closest('#notebook-container');\n",
       "if (notebookContainer) {{\n",
       "    x.observe(notebookContainer, {childList: true});\n",
       "}}\n",
       "\n",
       "// Listen for the clearing of the current output cell\n",
       "var outputEl = gd.closest('.output');\n",
       "if (outputEl) {{\n",
       "    x.observe(outputEl, {childList: true});\n",
       "}}\n",
       "\n",
       "                        })\n",
       "                };\n",
       "                });\n",
       "            </script>\n",
       "        </div>"
      ]
     },
     "metadata": {},
     "output_type": "display_data"
    }
   ],
   "source": [
    "## Graficar PIB primario, secundario y terciario (como porcentajes del nacional)\n",
    "import plotly.graph_objs as go\n",
    "import json\n",
    "import pandas as pd\n",
    "import numpy as np\n",
    "\n",
    "# define user parameters\n",
    "user_sectors_array = ['prim', 'sec', 'ter']\n",
    "user_year = 2000\n",
    "\n",
    "pib_dict = dict(\n",
    "    prim=dict(\n",
    "        levels=dict(\n",
    "            file='PIB_primario.csv'\n",
    "        ), \n",
    "        pct=dict(\n",
    "            file='PIB_primario_pct.csv'\n",
    "        )\n",
    "\n",
    "    ), \n",
    "    sec=dict(\n",
    "        levels=dict(\n",
    "            file='PIB_secundario.csv'\n",
    "        ), \n",
    "        pct=dict(\n",
    "            file='PIB_secundario_pct.csv'\n",
    "        )\n",
    "    ), \n",
    "    ter=dict(\n",
    "        levels=dict(\n",
    "            file='PIB_terciario.csv'\n",
    "        ), \n",
    "        pct=dict(\n",
    "            file='PIB_terciario_pct.csv'\n",
    "        )\n",
    "    ), \n",
    ")\n",
    "\n",
    "\n",
    "# create dataframes dict (by importing their files)\n",
    "dfs = {}\n",
    "for sector in ['prim', 'sec', 'ter']:\n",
    "    file = pib_dict[sector]['levels']['file']\n",
    "    df = pd.read_csv(f'data/{file}', index_col = 0)\n",
    "    dfs[sector] = dict(df=df) \n",
    "\n",
    "def create_pib_trace(df, year, total_column_label='Total nacional'):\n",
    "    # sector = 'prim' |'sec' | 'ter'\n",
    "    x = [col for col in df.columns.values if col != total_column_label]\n",
    "    y = df.loc[year,x]\n",
    "    trace = go.Bar(x=x, y=y)\n",
    "    return trace\n",
    "\n",
    "def create_pib_pct_graph(sectors_array, year):\n",
    "    \"\"\"crea una gráfica de porcentajes de aportación al pib para los\n",
    "    sectores indicados en el array y el año especificado\n",
    "    sectores_array=['prim', 'sec', 'ter'] --> se puede elegir uno o más\n",
    "    \"\"\"\n",
    "    \n",
    "    # create totals dataframe\n",
    "    totals = pd.DataFrame(np.zeros((dfs[sectors_array[0]]['df']).shape), \\\n",
    "                          index=dfs[sectors_array[0]]['df'].index, \\\n",
    "                          columns=dfs[sectors_array[0]]['df'].columns)\n",
    "    for sector in sectors_array:\n",
    "        totals = totals + dfs[sector]['df']\n",
    "    \n",
    "    # create pib pct df from totals dataframe\n",
    "    totals_pct = create_pib_pct_df(totals)\n",
    "    display(totals_pct)\n",
    "    \n",
    "    # create trace\n",
    "    totals_pct_trace = create_pib_trace(totals_pct, year)\n",
    "    data = [totals_pct_trace]\n",
    "    # create layout\n",
    "    layout = go.Layout(\n",
    "        xaxis=dict(tickmode='linear', categoryorder='total descending')\n",
    "    )\n",
    "    # create figure\n",
    "    fig = go.Figure(data=data, layout=layout)\n",
    "    return fig\n",
    "totals_fig =  create_pib_pct_graph(user_sectors_array, user_year) \n",
    "totals_fig.show()   "
   ]
  },
  {
   "cell_type": "markdown",
   "metadata": {},
   "source": [
    "## Stacked barchart code"
   ]
  },
  {
   "cell_type": "code",
   "execution_count": 15,
   "metadata": {},
   "outputs": [
    {
     "data": {
      "application/vnd.plotly.v1+json": {
       "config": {
        "plotlyServerURL": "https://plot.ly"
       },
       "data": [
        {
         "name": "Brn",
         "type": "bar",
         "x": [
          "2016-04-01",
          "2016-07-01",
          "2016-10-01"
         ],
         "y": [
          20,
          14,
          23
         ]
        },
        {
         "name": "Wrl",
         "type": "bar",
         "x": [
          "2016-04-01",
          "2016-07-01",
          "2016-10-01"
         ],
         "y": [
          12,
          18,
          29
         ]
        },
        {
         "name": "Lpl",
         "type": "bar",
         "x": [
          "2016-04-01",
          "2016-07-01",
          "2016-10-01"
         ],
         "y": [
          20,
          5,
          12
         ]
        },
        {
         "name": "HNE",
         "type": "bar",
         "x": [
          "2016-04-01",
          "2016-07-01",
          "2016-10-01"
         ],
         "y": [
          3,
          18,
          4
         ]
        },
        {
         "name": "Zoo",
         "type": "bar",
         "x": [
          "2016-04-01",
          "2016-07-01",
          "2016-10-01"
         ],
         "y": [
          12,
          3,
          29
         ]
        }
       ],
       "layout": {
        "barmode": "stack",
        "template": {
         "data": {
          "bar": [
           {
            "error_x": {
             "color": "#2a3f5f"
            },
            "error_y": {
             "color": "#2a3f5f"
            },
            "marker": {
             "line": {
              "color": "#E5ECF6",
              "width": 0.5
             }
            },
            "type": "bar"
           }
          ],
          "barpolar": [
           {
            "marker": {
             "line": {
              "color": "#E5ECF6",
              "width": 0.5
             }
            },
            "type": "barpolar"
           }
          ],
          "carpet": [
           {
            "aaxis": {
             "endlinecolor": "#2a3f5f",
             "gridcolor": "white",
             "linecolor": "white",
             "minorgridcolor": "white",
             "startlinecolor": "#2a3f5f"
            },
            "baxis": {
             "endlinecolor": "#2a3f5f",
             "gridcolor": "white",
             "linecolor": "white",
             "minorgridcolor": "white",
             "startlinecolor": "#2a3f5f"
            },
            "type": "carpet"
           }
          ],
          "choropleth": [
           {
            "colorbar": {
             "outlinewidth": 0,
             "ticks": ""
            },
            "type": "choropleth"
           }
          ],
          "contour": [
           {
            "colorbar": {
             "outlinewidth": 0,
             "ticks": ""
            },
            "colorscale": [
             [
              0,
              "#0d0887"
             ],
             [
              0.1111111111111111,
              "#46039f"
             ],
             [
              0.2222222222222222,
              "#7201a8"
             ],
             [
              0.3333333333333333,
              "#9c179e"
             ],
             [
              0.4444444444444444,
              "#bd3786"
             ],
             [
              0.5555555555555556,
              "#d8576b"
             ],
             [
              0.6666666666666666,
              "#ed7953"
             ],
             [
              0.7777777777777778,
              "#fb9f3a"
             ],
             [
              0.8888888888888888,
              "#fdca26"
             ],
             [
              1,
              "#f0f921"
             ]
            ],
            "type": "contour"
           }
          ],
          "contourcarpet": [
           {
            "colorbar": {
             "outlinewidth": 0,
             "ticks": ""
            },
            "type": "contourcarpet"
           }
          ],
          "heatmap": [
           {
            "colorbar": {
             "outlinewidth": 0,
             "ticks": ""
            },
            "colorscale": [
             [
              0,
              "#0d0887"
             ],
             [
              0.1111111111111111,
              "#46039f"
             ],
             [
              0.2222222222222222,
              "#7201a8"
             ],
             [
              0.3333333333333333,
              "#9c179e"
             ],
             [
              0.4444444444444444,
              "#bd3786"
             ],
             [
              0.5555555555555556,
              "#d8576b"
             ],
             [
              0.6666666666666666,
              "#ed7953"
             ],
             [
              0.7777777777777778,
              "#fb9f3a"
             ],
             [
              0.8888888888888888,
              "#fdca26"
             ],
             [
              1,
              "#f0f921"
             ]
            ],
            "type": "heatmap"
           }
          ],
          "heatmapgl": [
           {
            "colorbar": {
             "outlinewidth": 0,
             "ticks": ""
            },
            "colorscale": [
             [
              0,
              "#0d0887"
             ],
             [
              0.1111111111111111,
              "#46039f"
             ],
             [
              0.2222222222222222,
              "#7201a8"
             ],
             [
              0.3333333333333333,
              "#9c179e"
             ],
             [
              0.4444444444444444,
              "#bd3786"
             ],
             [
              0.5555555555555556,
              "#d8576b"
             ],
             [
              0.6666666666666666,
              "#ed7953"
             ],
             [
              0.7777777777777778,
              "#fb9f3a"
             ],
             [
              0.8888888888888888,
              "#fdca26"
             ],
             [
              1,
              "#f0f921"
             ]
            ],
            "type": "heatmapgl"
           }
          ],
          "histogram": [
           {
            "marker": {
             "colorbar": {
              "outlinewidth": 0,
              "ticks": ""
             }
            },
            "type": "histogram"
           }
          ],
          "histogram2d": [
           {
            "colorbar": {
             "outlinewidth": 0,
             "ticks": ""
            },
            "colorscale": [
             [
              0,
              "#0d0887"
             ],
             [
              0.1111111111111111,
              "#46039f"
             ],
             [
              0.2222222222222222,
              "#7201a8"
             ],
             [
              0.3333333333333333,
              "#9c179e"
             ],
             [
              0.4444444444444444,
              "#bd3786"
             ],
             [
              0.5555555555555556,
              "#d8576b"
             ],
             [
              0.6666666666666666,
              "#ed7953"
             ],
             [
              0.7777777777777778,
              "#fb9f3a"
             ],
             [
              0.8888888888888888,
              "#fdca26"
             ],
             [
              1,
              "#f0f921"
             ]
            ],
            "type": "histogram2d"
           }
          ],
          "histogram2dcontour": [
           {
            "colorbar": {
             "outlinewidth": 0,
             "ticks": ""
            },
            "colorscale": [
             [
              0,
              "#0d0887"
             ],
             [
              0.1111111111111111,
              "#46039f"
             ],
             [
              0.2222222222222222,
              "#7201a8"
             ],
             [
              0.3333333333333333,
              "#9c179e"
             ],
             [
              0.4444444444444444,
              "#bd3786"
             ],
             [
              0.5555555555555556,
              "#d8576b"
             ],
             [
              0.6666666666666666,
              "#ed7953"
             ],
             [
              0.7777777777777778,
              "#fb9f3a"
             ],
             [
              0.8888888888888888,
              "#fdca26"
             ],
             [
              1,
              "#f0f921"
             ]
            ],
            "type": "histogram2dcontour"
           }
          ],
          "mesh3d": [
           {
            "colorbar": {
             "outlinewidth": 0,
             "ticks": ""
            },
            "type": "mesh3d"
           }
          ],
          "parcoords": [
           {
            "line": {
             "colorbar": {
              "outlinewidth": 0,
              "ticks": ""
             }
            },
            "type": "parcoords"
           }
          ],
          "scatter": [
           {
            "marker": {
             "colorbar": {
              "outlinewidth": 0,
              "ticks": ""
             }
            },
            "type": "scatter"
           }
          ],
          "scatter3d": [
           {
            "line": {
             "colorbar": {
              "outlinewidth": 0,
              "ticks": ""
             }
            },
            "marker": {
             "colorbar": {
              "outlinewidth": 0,
              "ticks": ""
             }
            },
            "type": "scatter3d"
           }
          ],
          "scattercarpet": [
           {
            "marker": {
             "colorbar": {
              "outlinewidth": 0,
              "ticks": ""
             }
            },
            "type": "scattercarpet"
           }
          ],
          "scattergeo": [
           {
            "marker": {
             "colorbar": {
              "outlinewidth": 0,
              "ticks": ""
             }
            },
            "type": "scattergeo"
           }
          ],
          "scattergl": [
           {
            "marker": {
             "colorbar": {
              "outlinewidth": 0,
              "ticks": ""
             }
            },
            "type": "scattergl"
           }
          ],
          "scattermapbox": [
           {
            "marker": {
             "colorbar": {
              "outlinewidth": 0,
              "ticks": ""
             }
            },
            "type": "scattermapbox"
           }
          ],
          "scatterpolar": [
           {
            "marker": {
             "colorbar": {
              "outlinewidth": 0,
              "ticks": ""
             }
            },
            "type": "scatterpolar"
           }
          ],
          "scatterpolargl": [
           {
            "marker": {
             "colorbar": {
              "outlinewidth": 0,
              "ticks": ""
             }
            },
            "type": "scatterpolargl"
           }
          ],
          "scatterternary": [
           {
            "marker": {
             "colorbar": {
              "outlinewidth": 0,
              "ticks": ""
             }
            },
            "type": "scatterternary"
           }
          ],
          "surface": [
           {
            "colorbar": {
             "outlinewidth": 0,
             "ticks": ""
            },
            "colorscale": [
             [
              0,
              "#0d0887"
             ],
             [
              0.1111111111111111,
              "#46039f"
             ],
             [
              0.2222222222222222,
              "#7201a8"
             ],
             [
              0.3333333333333333,
              "#9c179e"
             ],
             [
              0.4444444444444444,
              "#bd3786"
             ],
             [
              0.5555555555555556,
              "#d8576b"
             ],
             [
              0.6666666666666666,
              "#ed7953"
             ],
             [
              0.7777777777777778,
              "#fb9f3a"
             ],
             [
              0.8888888888888888,
              "#fdca26"
             ],
             [
              1,
              "#f0f921"
             ]
            ],
            "type": "surface"
           }
          ],
          "table": [
           {
            "cells": {
             "fill": {
              "color": "#EBF0F8"
             },
             "line": {
              "color": "white"
             }
            },
            "header": {
             "fill": {
              "color": "#C8D4E3"
             },
             "line": {
              "color": "white"
             }
            },
            "type": "table"
           }
          ]
         },
         "layout": {
          "annotationdefaults": {
           "arrowcolor": "#2a3f5f",
           "arrowhead": 0,
           "arrowwidth": 1
          },
          "colorscale": {
           "diverging": [
            [
             0,
             "#8e0152"
            ],
            [
             0.1,
             "#c51b7d"
            ],
            [
             0.2,
             "#de77ae"
            ],
            [
             0.3,
             "#f1b6da"
            ],
            [
             0.4,
             "#fde0ef"
            ],
            [
             0.5,
             "#f7f7f7"
            ],
            [
             0.6,
             "#e6f5d0"
            ],
            [
             0.7,
             "#b8e186"
            ],
            [
             0.8,
             "#7fbc41"
            ],
            [
             0.9,
             "#4d9221"
            ],
            [
             1,
             "#276419"
            ]
           ],
           "sequential": [
            [
             0,
             "#0d0887"
            ],
            [
             0.1111111111111111,
             "#46039f"
            ],
            [
             0.2222222222222222,
             "#7201a8"
            ],
            [
             0.3333333333333333,
             "#9c179e"
            ],
            [
             0.4444444444444444,
             "#bd3786"
            ],
            [
             0.5555555555555556,
             "#d8576b"
            ],
            [
             0.6666666666666666,
             "#ed7953"
            ],
            [
             0.7777777777777778,
             "#fb9f3a"
            ],
            [
             0.8888888888888888,
             "#fdca26"
            ],
            [
             1,
             "#f0f921"
            ]
           ],
           "sequentialminus": [
            [
             0,
             "#0d0887"
            ],
            [
             0.1111111111111111,
             "#46039f"
            ],
            [
             0.2222222222222222,
             "#7201a8"
            ],
            [
             0.3333333333333333,
             "#9c179e"
            ],
            [
             0.4444444444444444,
             "#bd3786"
            ],
            [
             0.5555555555555556,
             "#d8576b"
            ],
            [
             0.6666666666666666,
             "#ed7953"
            ],
            [
             0.7777777777777778,
             "#fb9f3a"
            ],
            [
             0.8888888888888888,
             "#fdca26"
            ],
            [
             1,
             "#f0f921"
            ]
           ]
          },
          "colorway": [
           "#636efa",
           "#EF553B",
           "#00cc96",
           "#ab63fa",
           "#FFA15A",
           "#19d3f3",
           "#FF6692",
           "#B6E880",
           "#FF97FF",
           "#FECB52"
          ],
          "font": {
           "color": "#2a3f5f"
          },
          "geo": {
           "bgcolor": "white",
           "lakecolor": "white",
           "landcolor": "#E5ECF6",
           "showlakes": true,
           "showland": true,
           "subunitcolor": "white"
          },
          "hoverlabel": {
           "align": "left"
          },
          "hovermode": "closest",
          "mapbox": {
           "style": "light"
          },
          "paper_bgcolor": "white",
          "plot_bgcolor": "#E5ECF6",
          "polar": {
           "angularaxis": {
            "gridcolor": "white",
            "linecolor": "white",
            "ticks": ""
           },
           "bgcolor": "#E5ECF6",
           "radialaxis": {
            "gridcolor": "white",
            "linecolor": "white",
            "ticks": ""
           }
          },
          "scene": {
           "xaxis": {
            "backgroundcolor": "#E5ECF6",
            "gridcolor": "white",
            "gridwidth": 2,
            "linecolor": "white",
            "showbackground": true,
            "ticks": "",
            "zerolinecolor": "white"
           },
           "yaxis": {
            "backgroundcolor": "#E5ECF6",
            "gridcolor": "white",
            "gridwidth": 2,
            "linecolor": "white",
            "showbackground": true,
            "ticks": "",
            "zerolinecolor": "white"
           },
           "zaxis": {
            "backgroundcolor": "#E5ECF6",
            "gridcolor": "white",
            "gridwidth": 2,
            "linecolor": "white",
            "showbackground": true,
            "ticks": "",
            "zerolinecolor": "white"
           }
          },
          "shapedefaults": {
           "line": {
            "color": "#2a3f5f"
           }
          },
          "ternary": {
           "aaxis": {
            "gridcolor": "white",
            "linecolor": "white",
            "ticks": ""
           },
           "baxis": {
            "gridcolor": "white",
            "linecolor": "white",
            "ticks": ""
           },
           "bgcolor": "#E5ECF6",
           "caxis": {
            "gridcolor": "white",
            "linecolor": "white",
            "ticks": ""
           }
          },
          "title": {
           "x": 0.05
          },
          "xaxis": {
           "automargin": true,
           "gridcolor": "white",
           "linecolor": "white",
           "ticks": "",
           "zerolinecolor": "white",
           "zerolinewidth": 2
          },
          "yaxis": {
           "automargin": true,
           "gridcolor": "white",
           "linecolor": "white",
           "ticks": "",
           "zerolinecolor": "white",
           "zerolinewidth": 2
          }
         }
        },
        "xaxis": {
         "tickvals": [
          "2016-04-01",
          "2016-07-01",
          "2016-10-01"
         ]
        }
       }
      },
      "text/html": [
       "<div>\n",
       "        \n",
       "        \n",
       "            <div id=\"5a5c3dae-6240-4c56-b503-f84b5ae9011a\" class=\"plotly-graph-div\" style=\"height:525px; width:100%;\"></div>\n",
       "            <script type=\"text/javascript\">\n",
       "                require([\"plotly\"], function(Plotly) {\n",
       "                    window.PLOTLYENV=window.PLOTLYENV || {};\n",
       "                    \n",
       "                if (document.getElementById(\"5a5c3dae-6240-4c56-b503-f84b5ae9011a\")) {\n",
       "                    Plotly.newPlot(\n",
       "                        '5a5c3dae-6240-4c56-b503-f84b5ae9011a',\n",
       "                        [{\"name\": \"Brn\", \"type\": \"bar\", \"x\": [\"2016-04-01\", \"2016-07-01\", \"2016-10-01\"], \"y\": [20, 14, 23]}, {\"name\": \"Wrl\", \"type\": \"bar\", \"x\": [\"2016-04-01\", \"2016-07-01\", \"2016-10-01\"], \"y\": [12, 18, 29]}, {\"name\": \"Lpl\", \"type\": \"bar\", \"x\": [\"2016-04-01\", \"2016-07-01\", \"2016-10-01\"], \"y\": [20, 5, 12]}, {\"name\": \"HNE\", \"type\": \"bar\", \"x\": [\"2016-04-01\", \"2016-07-01\", \"2016-10-01\"], \"y\": [3, 18, 4]}, {\"name\": \"Zoo\", \"type\": \"bar\", \"x\": [\"2016-04-01\", \"2016-07-01\", \"2016-10-01\"], \"y\": [12, 3, 29]}],\n",
       "                        {\"barmode\": \"stack\", \"template\": {\"data\": {\"bar\": [{\"error_x\": {\"color\": \"#2a3f5f\"}, \"error_y\": {\"color\": \"#2a3f5f\"}, \"marker\": {\"line\": {\"color\": \"#E5ECF6\", \"width\": 0.5}}, \"type\": \"bar\"}], \"barpolar\": [{\"marker\": {\"line\": {\"color\": \"#E5ECF6\", \"width\": 0.5}}, \"type\": \"barpolar\"}], \"carpet\": [{\"aaxis\": {\"endlinecolor\": \"#2a3f5f\", \"gridcolor\": \"white\", \"linecolor\": \"white\", \"minorgridcolor\": \"white\", \"startlinecolor\": \"#2a3f5f\"}, \"baxis\": {\"endlinecolor\": \"#2a3f5f\", \"gridcolor\": \"white\", \"linecolor\": \"white\", \"minorgridcolor\": \"white\", \"startlinecolor\": \"#2a3f5f\"}, \"type\": \"carpet\"}], \"choropleth\": [{\"colorbar\": {\"outlinewidth\": 0, \"ticks\": \"\"}, \"type\": \"choropleth\"}], \"contour\": [{\"colorbar\": {\"outlinewidth\": 0, \"ticks\": \"\"}, \"colorscale\": [[0.0, \"#0d0887\"], [0.1111111111111111, \"#46039f\"], [0.2222222222222222, \"#7201a8\"], [0.3333333333333333, \"#9c179e\"], [0.4444444444444444, \"#bd3786\"], [0.5555555555555556, \"#d8576b\"], [0.6666666666666666, \"#ed7953\"], [0.7777777777777778, \"#fb9f3a\"], [0.8888888888888888, \"#fdca26\"], [1.0, \"#f0f921\"]], \"type\": \"contour\"}], \"contourcarpet\": [{\"colorbar\": {\"outlinewidth\": 0, \"ticks\": \"\"}, \"type\": \"contourcarpet\"}], \"heatmap\": [{\"colorbar\": {\"outlinewidth\": 0, \"ticks\": \"\"}, \"colorscale\": [[0.0, \"#0d0887\"], [0.1111111111111111, \"#46039f\"], [0.2222222222222222, \"#7201a8\"], [0.3333333333333333, \"#9c179e\"], [0.4444444444444444, \"#bd3786\"], [0.5555555555555556, \"#d8576b\"], [0.6666666666666666, \"#ed7953\"], [0.7777777777777778, \"#fb9f3a\"], [0.8888888888888888, \"#fdca26\"], [1.0, \"#f0f921\"]], \"type\": \"heatmap\"}], \"heatmapgl\": [{\"colorbar\": {\"outlinewidth\": 0, \"ticks\": \"\"}, \"colorscale\": [[0.0, \"#0d0887\"], [0.1111111111111111, \"#46039f\"], [0.2222222222222222, \"#7201a8\"], [0.3333333333333333, \"#9c179e\"], [0.4444444444444444, \"#bd3786\"], [0.5555555555555556, \"#d8576b\"], [0.6666666666666666, \"#ed7953\"], [0.7777777777777778, \"#fb9f3a\"], [0.8888888888888888, \"#fdca26\"], [1.0, \"#f0f921\"]], \"type\": \"heatmapgl\"}], \"histogram\": [{\"marker\": {\"colorbar\": {\"outlinewidth\": 0, \"ticks\": \"\"}}, \"type\": \"histogram\"}], \"histogram2d\": [{\"colorbar\": {\"outlinewidth\": 0, \"ticks\": \"\"}, \"colorscale\": [[0.0, \"#0d0887\"], [0.1111111111111111, \"#46039f\"], [0.2222222222222222, \"#7201a8\"], [0.3333333333333333, \"#9c179e\"], [0.4444444444444444, \"#bd3786\"], [0.5555555555555556, \"#d8576b\"], [0.6666666666666666, \"#ed7953\"], [0.7777777777777778, \"#fb9f3a\"], [0.8888888888888888, \"#fdca26\"], [1.0, \"#f0f921\"]], \"type\": \"histogram2d\"}], \"histogram2dcontour\": [{\"colorbar\": {\"outlinewidth\": 0, \"ticks\": \"\"}, \"colorscale\": [[0.0, \"#0d0887\"], [0.1111111111111111, \"#46039f\"], [0.2222222222222222, \"#7201a8\"], [0.3333333333333333, \"#9c179e\"], [0.4444444444444444, \"#bd3786\"], [0.5555555555555556, \"#d8576b\"], [0.6666666666666666, \"#ed7953\"], [0.7777777777777778, \"#fb9f3a\"], [0.8888888888888888, \"#fdca26\"], [1.0, \"#f0f921\"]], \"type\": \"histogram2dcontour\"}], \"mesh3d\": [{\"colorbar\": {\"outlinewidth\": 0, \"ticks\": \"\"}, \"type\": \"mesh3d\"}], \"parcoords\": [{\"line\": {\"colorbar\": {\"outlinewidth\": 0, \"ticks\": \"\"}}, \"type\": \"parcoords\"}], \"scatter\": [{\"marker\": {\"colorbar\": {\"outlinewidth\": 0, \"ticks\": \"\"}}, \"type\": \"scatter\"}], \"scatter3d\": [{\"line\": {\"colorbar\": {\"outlinewidth\": 0, \"ticks\": \"\"}}, \"marker\": {\"colorbar\": {\"outlinewidth\": 0, \"ticks\": \"\"}}, \"type\": \"scatter3d\"}], \"scattercarpet\": [{\"marker\": {\"colorbar\": {\"outlinewidth\": 0, \"ticks\": \"\"}}, \"type\": \"scattercarpet\"}], \"scattergeo\": [{\"marker\": {\"colorbar\": {\"outlinewidth\": 0, \"ticks\": \"\"}}, \"type\": \"scattergeo\"}], \"scattergl\": [{\"marker\": {\"colorbar\": {\"outlinewidth\": 0, \"ticks\": \"\"}}, \"type\": \"scattergl\"}], \"scattermapbox\": [{\"marker\": {\"colorbar\": {\"outlinewidth\": 0, \"ticks\": \"\"}}, \"type\": \"scattermapbox\"}], \"scatterpolar\": [{\"marker\": {\"colorbar\": {\"outlinewidth\": 0, \"ticks\": \"\"}}, \"type\": \"scatterpolar\"}], \"scatterpolargl\": [{\"marker\": {\"colorbar\": {\"outlinewidth\": 0, \"ticks\": \"\"}}, \"type\": \"scatterpolargl\"}], \"scatterternary\": [{\"marker\": {\"colorbar\": {\"outlinewidth\": 0, \"ticks\": \"\"}}, \"type\": \"scatterternary\"}], \"surface\": [{\"colorbar\": {\"outlinewidth\": 0, \"ticks\": \"\"}, \"colorscale\": [[0.0, \"#0d0887\"], [0.1111111111111111, \"#46039f\"], [0.2222222222222222, \"#7201a8\"], [0.3333333333333333, \"#9c179e\"], [0.4444444444444444, \"#bd3786\"], [0.5555555555555556, \"#d8576b\"], [0.6666666666666666, \"#ed7953\"], [0.7777777777777778, \"#fb9f3a\"], [0.8888888888888888, \"#fdca26\"], [1.0, \"#f0f921\"]], \"type\": \"surface\"}], \"table\": [{\"cells\": {\"fill\": {\"color\": \"#EBF0F8\"}, \"line\": {\"color\": \"white\"}}, \"header\": {\"fill\": {\"color\": \"#C8D4E3\"}, \"line\": {\"color\": \"white\"}}, \"type\": \"table\"}]}, \"layout\": {\"annotationdefaults\": {\"arrowcolor\": \"#2a3f5f\", \"arrowhead\": 0, \"arrowwidth\": 1}, \"colorscale\": {\"diverging\": [[0, \"#8e0152\"], [0.1, \"#c51b7d\"], [0.2, \"#de77ae\"], [0.3, \"#f1b6da\"], [0.4, \"#fde0ef\"], [0.5, \"#f7f7f7\"], [0.6, \"#e6f5d0\"], [0.7, \"#b8e186\"], [0.8, \"#7fbc41\"], [0.9, \"#4d9221\"], [1, \"#276419\"]], \"sequential\": [[0.0, \"#0d0887\"], [0.1111111111111111, \"#46039f\"], [0.2222222222222222, \"#7201a8\"], [0.3333333333333333, \"#9c179e\"], [0.4444444444444444, \"#bd3786\"], [0.5555555555555556, \"#d8576b\"], [0.6666666666666666, \"#ed7953\"], [0.7777777777777778, \"#fb9f3a\"], [0.8888888888888888, \"#fdca26\"], [1.0, \"#f0f921\"]], \"sequentialminus\": [[0.0, \"#0d0887\"], [0.1111111111111111, \"#46039f\"], [0.2222222222222222, \"#7201a8\"], [0.3333333333333333, \"#9c179e\"], [0.4444444444444444, \"#bd3786\"], [0.5555555555555556, \"#d8576b\"], [0.6666666666666666, \"#ed7953\"], [0.7777777777777778, \"#fb9f3a\"], [0.8888888888888888, \"#fdca26\"], [1.0, \"#f0f921\"]]}, \"colorway\": [\"#636efa\", \"#EF553B\", \"#00cc96\", \"#ab63fa\", \"#FFA15A\", \"#19d3f3\", \"#FF6692\", \"#B6E880\", \"#FF97FF\", \"#FECB52\"], \"font\": {\"color\": \"#2a3f5f\"}, \"geo\": {\"bgcolor\": \"white\", \"lakecolor\": \"white\", \"landcolor\": \"#E5ECF6\", \"showlakes\": true, \"showland\": true, \"subunitcolor\": \"white\"}, \"hoverlabel\": {\"align\": \"left\"}, \"hovermode\": \"closest\", \"mapbox\": {\"style\": \"light\"}, \"paper_bgcolor\": \"white\", \"plot_bgcolor\": \"#E5ECF6\", \"polar\": {\"angularaxis\": {\"gridcolor\": \"white\", \"linecolor\": \"white\", \"ticks\": \"\"}, \"bgcolor\": \"#E5ECF6\", \"radialaxis\": {\"gridcolor\": \"white\", \"linecolor\": \"white\", \"ticks\": \"\"}}, \"scene\": {\"xaxis\": {\"backgroundcolor\": \"#E5ECF6\", \"gridcolor\": \"white\", \"gridwidth\": 2, \"linecolor\": \"white\", \"showbackground\": true, \"ticks\": \"\", \"zerolinecolor\": \"white\"}, \"yaxis\": {\"backgroundcolor\": \"#E5ECF6\", \"gridcolor\": \"white\", \"gridwidth\": 2, \"linecolor\": \"white\", \"showbackground\": true, \"ticks\": \"\", \"zerolinecolor\": \"white\"}, \"zaxis\": {\"backgroundcolor\": \"#E5ECF6\", \"gridcolor\": \"white\", \"gridwidth\": 2, \"linecolor\": \"white\", \"showbackground\": true, \"ticks\": \"\", \"zerolinecolor\": \"white\"}}, \"shapedefaults\": {\"line\": {\"color\": \"#2a3f5f\"}}, \"ternary\": {\"aaxis\": {\"gridcolor\": \"white\", \"linecolor\": \"white\", \"ticks\": \"\"}, \"baxis\": {\"gridcolor\": \"white\", \"linecolor\": \"white\", \"ticks\": \"\"}, \"bgcolor\": \"#E5ECF6\", \"caxis\": {\"gridcolor\": \"white\", \"linecolor\": \"white\", \"ticks\": \"\"}}, \"title\": {\"x\": 0.05}, \"xaxis\": {\"automargin\": true, \"gridcolor\": \"white\", \"linecolor\": \"white\", \"ticks\": \"\", \"zerolinecolor\": \"white\", \"zerolinewidth\": 2}, \"yaxis\": {\"automargin\": true, \"gridcolor\": \"white\", \"linecolor\": \"white\", \"ticks\": \"\", \"zerolinecolor\": \"white\", \"zerolinewidth\": 2}}}, \"xaxis\": {\"tickvals\": [\"2016-04-01\", \"2016-07-01\", \"2016-10-01\"]}},\n",
       "                        {\"responsive\": true}\n",
       "                    ).then(function(){\n",
       "                            \n",
       "var gd = document.getElementById('5a5c3dae-6240-4c56-b503-f84b5ae9011a');\n",
       "var x = new MutationObserver(function (mutations, observer) {{\n",
       "        var display = window.getComputedStyle(gd).display;\n",
       "        if (!display || display === 'none') {{\n",
       "            console.log([gd, 'removed!']);\n",
       "            Plotly.purge(gd);\n",
       "            observer.disconnect();\n",
       "        }}\n",
       "}});\n",
       "\n",
       "// Listen for the removal of the full notebook cells\n",
       "var notebookContainer = gd.closest('#notebook-container');\n",
       "if (notebookContainer) {{\n",
       "    x.observe(notebookContainer, {childList: true});\n",
       "}}\n",
       "\n",
       "// Listen for the clearing of the current output cell\n",
       "var outputEl = gd.closest('.output');\n",
       "if (outputEl) {{\n",
       "    x.observe(outputEl, {childList: true});\n",
       "}}\n",
       "\n",
       "                        })\n",
       "                };\n",
       "                });\n",
       "            </script>\n",
       "        </div>"
      ]
     },
     "metadata": {},
     "output_type": "display_data"
    }
   ],
   "source": [
    "dates = ['2016-04-01', '2016-07-01', '2016-10-01']\n",
    "trace1 = go.Bar(\n",
    "    x=dates, y=[20, 14, 23],\n",
    "    name='Brn'\n",
    ")\n",
    "trace2 = go.Bar(\n",
    "    x=dates, y=[12, 18, 29],\n",
    "    name='Wrl'\n",
    ")\n",
    "trace3 = go.Bar(\n",
    "    x=dates, y=[20, 5, 12],\n",
    "    name='Lpl'\n",
    ")\n",
    "trace4 = go.Bar(\n",
    "    x=dates, y=[3, 18, 4],\n",
    "    name='HNE'\n",
    ")\n",
    "trace5 = go.Bar(\n",
    "    x=dates, y=[12, 3, 29],\n",
    "    name='Zoo'\n",
    ")\n",
    "\n",
    "data = [trace1, trace2, trace3, trace4, trace5]\n",
    "layout = go.Layout(\n",
    "    barmode='stack',\n",
    "    xaxis=dict(tickvals=['2016-04-01', '2016-07-01', '2016-10-01'])\n",
    ")\n",
    "\n",
    "fig = go.Figure(data=data, layout=layout)\n",
    "fig.show()"
   ]
  },
  {
   "cell_type": "markdown",
   "metadata": {},
   "source": [
    "### Ejemplo incompleto con API call a INEGI"
   ]
  },
  {
   "cell_type": "code",
   "execution_count": 4,
   "metadata": {},
   "outputs": [
    {
     "name": "stdout",
     "output_type": "stream",
     "text": [
      "{\n",
      "  \"Header\": {\n",
      "    \"Name\": \"Datos compactos BIE\",\n",
      "    \"Email\": \"atencion.usuarios@inegi.org.mx\"\n",
      "  },\n",
      "  \"Series\": [\n",
      "    {\n",
      "      \"INDICADOR\": \"472079\",\n",
      "      \"FREQ\": \"3\",\n",
      "      \"TOPIC\": \"102000430020002000700002\",\n",
      "      \"UNIT\": \"317\",\n",
      "      \"NOTE\": \"\",\n",
      "      \"SOURCE\": \"17\",\n",
      "      \"LASTUPDATE\": \"16/12/2019 01:19:03 p. m.\",\n",
      "      \"OBSERVATIONS\": [\n",
      "        {\n",
      "          \"TIME_PERIOD\": \"2018\",\n",
      "          \"OBS_VALUE\": \"3.12918e+006\",\n",
      "          \"OBS_EXCEPTION\": \"\",\n",
      "          \"OBS_STATUS\": \"1\",\n",
      "          \"OBS_SOURCE\": \"17\",\n",
      "          \"OBS_NOTE\": null,\n",
      "          \"COBER_GEO\": \"00\"\n",
      "        }\n",
      "      ]\n",
      "    },\n",
      "    {\n",
      "      \"INDICADOR\": \"472080\",\n",
      "      \"FREQ\": \"3\",\n",
      "      \"TOPIC\": \"102000430020002000700004\",\n",
      "      \"UNIT\": \"317\",\n",
      "      \"NOTE\": \"\",\n",
      "      \"SOURCE\": \"17\",\n",
      "      \"LASTUPDATE\": \"16/12/2019 01:19:03 p. m.\",\n",
      "      \"OBSERVATIONS\": [\n",
      "        {\n",
      "          \"TIME_PERIOD\": \"2018\",\n",
      "          \"OBS_VALUE\": \"3.12918e+006\",\n",
      "          \"OBS_EXCEPTION\": \"\",\n",
      "          \"OBS_STATUS\": \"1\",\n",
      "          \"OBS_SOURCE\": \"17\",\n",
      "          \"OBS_NOTE\": null,\n",
      "          \"COBER_GEO\": \"00\"\n",
      "        }\n",
      "      ]\n",
      "    },\n",
      "    {\n",
      "      \"INDICADOR\": \"472081\",\n",
      "      \"FREQ\": \"3\",\n",
      "      \"TOPIC\": \"102000430020002000700006\",\n",
      "      \"UNIT\": \"317\",\n",
      "      \"NOTE\": \"\",\n",
      "      \"SOURCE\": \"17\",\n",
      "      \"LASTUPDATE\": \"16/12/2019 01:19:03 p. m.\",\n",
      "      \"OBSERVATIONS\": [\n",
      "        {\n",
      "          \"TIME_PERIOD\": \"2018\",\n",
      "          \"OBS_VALUE\": \"3.12918e+006\",\n",
      "          \"OBS_EXCEPTION\": \"\",\n",
      "          \"OBS_STATUS\": \"1\",\n",
      "          \"OBS_SOURCE\": \"17\",\n",
      "          \"OBS_NOTE\": null,\n",
      "          \"COBER_GEO\": \"00\"\n",
      "        }\n",
      "      ]\n",
      "    },\n",
      "    {\n",
      "      \"INDICADOR\": \"472082\",\n",
      "      \"FREQ\": \"3\",\n",
      "      \"TOPIC\": \"102000430020002000700008\",\n",
      "      \"UNIT\": \"317\",\n",
      "      \"NOTE\": \"\",\n",
      "      \"SOURCE\": \"17\",\n",
      "      \"LASTUPDATE\": \"16/12/2019 01:19:03 p. m.\",\n",
      "      \"OBSERVATIONS\": [\n",
      "        {\n",
      "          \"TIME_PERIOD\": \"2018\",\n",
      "          \"OBS_VALUE\": \"3.12918e+006\",\n",
      "          \"OBS_EXCEPTION\": \"\",\n",
      "          \"OBS_STATUS\": \"1\",\n",
      "          \"OBS_SOURCE\": \"17\",\n",
      "          \"OBS_NOTE\": null,\n",
      "          \"COBER_GEO\": \"00\"\n",
      "        }\n",
      "      ]\n",
      "    },\n",
      "    {\n",
      "      \"INDICADOR\": \"472083\",\n",
      "      \"FREQ\": \"3\",\n",
      "      \"TOPIC\": \"102000430020002000700010\",\n",
      "      \"UNIT\": \"317\",\n",
      "      \"NOTE\": \"\",\n",
      "      \"SOURCE\": \"17\",\n",
      "      \"LASTUPDATE\": \"16/12/2019 01:19:03 p. m.\",\n",
      "      \"OBSERVATIONS\": [\n",
      "        {\n",
      "          \"TIME_PERIOD\": \"2018\",\n",
      "          \"OBS_VALUE\": \"3.12918e+006\",\n",
      "          \"OBS_EXCEPTION\": \"\",\n",
      "          \"OBS_STATUS\": \"1\",\n",
      "          \"OBS_SOURCE\": \"17\",\n",
      "          \"OBS_NOTE\": null,\n",
      "          \"COBER_GEO\": \"00\"\n",
      "        }\n",
      "      ]\n",
      "    },\n",
      "    {\n",
      "      \"INDICADOR\": \"472084\",\n",
      "      \"FREQ\": \"3\",\n",
      "      \"TOPIC\": \"102000430020002000700012\",\n",
      "      \"UNIT\": \"317\",\n",
      "      \"NOTE\": \"\",\n",
      "      \"SOURCE\": \"17\",\n",
      "      \"LASTUPDATE\": \"16/12/2019 01:19:03 p. m.\",\n",
      "      \"OBSERVATIONS\": [\n",
      "        {\n",
      "          \"TIME_PERIOD\": \"2018\",\n",
      "          \"OBS_VALUE\": \"3.12918e+006\",\n",
      "          \"OBS_EXCEPTION\": \"\",\n",
      "          \"OBS_STATUS\": \"1\",\n",
      "          \"OBS_SOURCE\": \"17\",\n",
      "          \"OBS_NOTE\": null,\n",
      "          \"COBER_GEO\": \"00\"\n",
      "        }\n",
      "      ]\n",
      "    },\n",
      "    {\n",
      "      \"INDICADOR\": \"472085\",\n",
      "      \"FREQ\": \"3\",\n",
      "      \"TOPIC\": \"102000430020002000700014\",\n",
      "      \"UNIT\": \"317\",\n",
      "      \"NOTE\": \"\",\n",
      "      \"SOURCE\": \"17\",\n",
      "      \"LASTUPDATE\": \"16/12/2019 01:19:03 p. m.\",\n",
      "      \"OBSERVATIONS\": [\n",
      "        {\n",
      "          \"TIME_PERIOD\": \"2018\",\n",
      "          \"OBS_VALUE\": \"3.12918e+006\",\n",
      "          \"OBS_EXCEPTION\": \"\",\n",
      "          \"OBS_STATUS\": \"1\",\n",
      "          \"OBS_SOURCE\": \"17\",\n",
      "          \"OBS_NOTE\": null,\n",
      "          \"COBER_GEO\": \"00\"\n",
      "        }\n",
      "      ]\n",
      "    },\n",
      "    {\n",
      "      \"INDICADOR\": \"472086\",\n",
      "      \"FREQ\": \"3\",\n",
      "      \"TOPIC\": \"102000430020002000700016\",\n",
      "      \"UNIT\": \"317\",\n",
      "      \"NOTE\": \"\",\n",
      "      \"SOURCE\": \"17\",\n",
      "      \"LASTUPDATE\": \"16/12/2019 01:19:03 p. m.\",\n",
      "      \"OBSERVATIONS\": [\n",
      "        {\n",
      "          \"TIME_PERIOD\": \"2018\",\n",
      "          \"OBS_VALUE\": \"3.12918e+006\",\n",
      "          \"OBS_EXCEPTION\": \"\",\n",
      "          \"OBS_STATUS\": \"1\",\n",
      "          \"OBS_SOURCE\": \"17\",\n",
      "          \"OBS_NOTE\": null,\n",
      "          \"COBER_GEO\": \"00\"\n",
      "        }\n",
      "      ]\n",
      "    },\n",
      "    {\n",
      "      \"INDICADOR\": \"472087\",\n",
      "      \"FREQ\": \"3\",\n",
      "      \"TOPIC\": \"102000430020002000700018\",\n",
      "      \"UNIT\": \"317\",\n",
      "      \"NOTE\": \"\",\n",
      "      \"SOURCE\": \"17\",\n",
      "      \"LASTUPDATE\": \"16/12/2019 01:19:03 p. m.\",\n",
      "      \"OBSERVATIONS\": [\n",
      "        {\n",
      "          \"TIME_PERIOD\": \"2018\",\n",
      "          \"OBS_VALUE\": \"3.12918e+006\",\n",
      "          \"OBS_EXCEPTION\": \"\",\n",
      "          \"OBS_STATUS\": \"1\",\n",
      "          \"OBS_SOURCE\": \"17\",\n",
      "          \"OBS_NOTE\": null,\n",
      "          \"COBER_GEO\": \"00\"\n",
      "        }\n",
      "      ]\n",
      "    },\n",
      "    {\n",
      "      \"INDICADOR\": \"472088\",\n",
      "      \"FREQ\": \"3\",\n",
      "      \"TOPIC\": \"102000430020002000700020\",\n",
      "      \"UNIT\": \"317\",\n",
      "      \"NOTE\": \"\",\n",
      "      \"SOURCE\": \"17\",\n",
      "      \"LASTUPDATE\": \"16/12/2019 01:19:03 p. m.\",\n",
      "      \"OBSERVATIONS\": [\n",
      "        {\n",
      "          \"TIME_PERIOD\": \"2018\",\n",
      "          \"OBS_VALUE\": \"3.12918e+006\",\n",
      "          \"OBS_EXCEPTION\": \"\",\n",
      "          \"OBS_STATUS\": \"1\",\n",
      "          \"OBS_SOURCE\": \"17\",\n",
      "          \"OBS_NOTE\": null,\n",
      "          \"COBER_GEO\": \"00\"\n",
      "        }\n",
      "      ]\n",
      "    }\n",
      "  ]\n",
      "}\n",
      "3129180.0\n"
     ]
    }
   ],
   "source": [
    "# Ejemplo con API call\n",
    "import pandas as pd\n",
    "import requests\n",
    "import json\n",
    "\n",
    "# API call\n",
    "# consultar: https://www.inegi.org.mx/servicios/api_indicadores.html\n",
    "token = '5c520796-e0a7-f03b-0cdb-5101e2948d18'\n",
    "\n",
    "url = f'https://www.inegi.org.mx/app/api/indicadores/desarrolladores/jsonxml/INDICATOR/472079,472080,472081,472082,472083,472084,472085,472086,472087,472088/es/0700/true/BIE/2.0/{token}?type=json'\n",
    "response= requests.get(url)\n",
    "print(json.dumps(response.json(),indent=2))\n",
    "if response.status_code==200:\n",
    "    content= json.loads(response.content)\n",
    "    Series=content['Series'][0]['OBSERVATIONS']   \n",
    "    \n",
    "    #Obtención de la lista de observaciones \n",
    "    Observaciones=[]\n",
    "    for obs in Series:  Observaciones.append(float(obs['OBS_VALUE']));\n",
    "    \n",
    "\n",
    "    #Generación del promedio de la lista de observaciones \n",
    "    sum=0.0\n",
    "    for i in range(0,len(Observaciones)): sum=sum+Observaciones[i];  \n",
    "\n",
    "    resultado=sum/len(Observaciones);\n",
    "    print(resultado)"
   ]
  }
 ],
 "metadata": {
  "kernelspec": {
   "display_name": "'Python Interactive'",
   "language": "python",
   "name": "fb42b19b-c014-4e89-9dc4-ac4de46dce02"
  },
  "language_info": {
   "codemirror_mode": {
    "name": "ipython",
    "version": 3
   },
   "file_extension": ".py",
   "mimetype": "text/x-python",
   "name": "python",
   "nbconvert_exporter": "python",
   "pygments_lexer": "ipython3",
   "version": "3.7.5"
  }
 },
 "nbformat": 4,
 "nbformat_minor": 2
}
